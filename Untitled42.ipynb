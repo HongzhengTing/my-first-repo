{
 "cells": [
  {
   "cell_type": "code",
   "execution_count": 7,
   "id": "597a27f8-3d18-44bb-b729-f2ce9fcfc268",
   "metadata": {},
   "outputs": [
    {
     "data": {
      "text/plain": [
       "True"
      ]
     },
     "execution_count": 7,
     "metadata": {},
     "output_type": "execute_result"
    }
   ],
   "source": [
    "isinstance(1,int)"
   ]
  },
  {
   "cell_type": "code",
   "execution_count": 16,
   "id": "a10e8894-424e-486d-aca0-0c36afabdd7e",
   "metadata": {},
   "outputs": [
    {
     "name": "stdout",
     "output_type": "stream",
     "text": [
      "奔驰 welcome\n",
      "start V6\n"
     ]
    }
   ],
   "source": [
    "class Engine():\n",
    "    def __init__(self,name):\n",
    "        self.name = name\n",
    "    def start(self):\n",
    "        print('start',self.name)\n",
    "\n",
    "class Vehicle():\n",
    "    def __init__(self,brand,engine):\n",
    "        self.brand = brand\n",
    "        self.engine = engine\n",
    "        \n",
    "    def whendrive(self):\n",
    "        print(self.brand,'welcome')\n",
    "        self.engine.start()\n",
    "\n",
    "\n",
    "Engine1=Engine('V6')\n",
    "car1=Vehicle('奔驰',Engine1)\n",
    "car1.whendrive()"
   ]
  },
  {
   "cell_type": "code",
   "execution_count": null,
   "id": "8bd5896c-0e13-4fe1-b24b-c3622835c7cc",
   "metadata": {},
   "outputs": [],
   "source": []
  }
 ],
 "metadata": {
  "kernelspec": {
   "display_name": "Python 3 (ipykernel)",
   "language": "python",
   "name": "python3"
  },
  "language_info": {
   "codemirror_mode": {
    "name": "ipython",
    "version": 3
   },
   "file_extension": ".py",
   "mimetype": "text/x-python",
   "name": "python",
   "nbconvert_exporter": "python",
   "pygments_lexer": "ipython3",
   "version": "3.12.8"
  }
 },
 "nbformat": 4,
 "nbformat_minor": 5
}
