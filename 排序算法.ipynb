{
 "cells": [
  {
   "cell_type": "code",
   "execution_count": 3,
   "id": "b2abef38-e7c9-4aa0-b9d5-580fa440fb4f",
   "metadata": {},
   "outputs": [
    {
     "name": "stdout",
     "output_type": "stream",
     "text": [
      "[1, 5, 7, 9, 55, 56, 68, 128]\n"
     ]
    }
   ],
   "source": [
    "#bubble 两个两个一比较\n",
    "def bu(nums):\n",
    "    left = 0\n",
    "    while left < len(nums)-1:\n",
    "        j = left\n",
    "        if nums[j] > nums[j+1]:\n",
    "            nums[j],nums[j+1] = nums[j+1],nums[j]\n",
    "        left = left +1\n",
    "        \n",
    "    return nums\n",
    "\n",
    "def times(nums):\n",
    "    timer = len(nums)-1\n",
    "    while timer > 0:\n",
    "        bu(nums)\n",
    "        timer = timer -1\n",
    "    return nums\n",
    "\n",
    "nums = [1,56,5,7,128,68,9,55]\n",
    "print(times(nums))"
   ]
  },
  {
   "cell_type": "code",
   "execution_count": 5,
   "id": "62e29fd2-17c3-4823-82a6-da334bfd30b8",
   "metadata": {},
   "outputs": [
    {
     "data": {
      "text/plain": [
       "[1, 5, 7, 9, 55, 56, 68, 128]"
      ]
     },
     "execution_count": 5,
     "metadata": {},
     "output_type": "execute_result"
    }
   ],
   "source": [
    "##快速排序 选一个基准值pivot,小于他的放左边儿大于的放右边儿\n",
    "def quick(nums1):\n",
    "    \n",
    "    if len(nums1) <= 1:\n",
    "        return nums1\n",
    "        \n",
    "    left= []\n",
    "    right= []\n",
    "\n",
    "    index = 0\n",
    "    \n",
    "    while index < len(nums1)-1:\n",
    "        if nums1[index] < nums1[-1]:\n",
    "            left.append(nums1[index])\n",
    "        elif nums1[index]> nums1[-1]:\n",
    "            right.append(nums1[index])\n",
    "        index += 1\n",
    "\n",
    "    return quick(left)+[nums1[-1]]+quick(right)\n",
    "\n",
    "\n",
    "nums = [1, 5, 7, 9, 55, 56, 68, 128]\n",
    "\n",
    "\n",
    "quick(nums)"
   ]
  },
  {
   "cell_type": "code",
   "execution_count": 9,
   "id": "0fc23b8d-1b0a-400a-9dce-876cc98e20ac",
   "metadata": {},
   "outputs": [
    {
     "data": {
      "text/plain": [
       "[1, 5, 7, 9, 55, 56, 68, 128]"
      ]
     },
     "execution_count": 9,
     "metadata": {},
     "output_type": "execute_result"
    }
   ],
   "source": [
    "##快速插入排序 左边第一个是排完的右边未排的进行比较\n",
    "##\n",
    "[5, 2, 9, 1, 5, 6]\n",
    "\n",
    "第一步：我们从第二个元素 2 开始（索引 1），5 已经是有序的。\n",
    "\n",
    "比较 2 和 5，2 < 5，所以将 5 向右移动。\n",
    "数组变为：[5, 5, 9, 1, 5, 6]\n",
    "将 2 插入到位置 0。\n",
    "数组变为：[2, 5, 9, 1, 5, 6]\n",
    "第二步：下一个元素是 9（索引 2）。\n",
    "\n",
    "比较 9 和 5，9 不小于 5，所以 9 已经在正确的位置，无需移动。\n",
    "数组保持不变：[2, 5, 9, 1, 5, 6]\n",
    "第三步：下一个元素是 1（索引 3）。\n",
    "\n",
    "比较 1 和 9，1 < 9，移动 9 向右。\n",
    "数组变为：[2, 5, 9, 9, 5, 6]\n",
    "比较 1 和 5，1 < 5，移动 5 向右。\n",
    "数组变为：[2, 5, 5, 9, 5, 6]\n",
    "比较 1 和 2，1 < 2，移动 2 向右。\n",
    "数组变为：[2, 2, 5, 9, 5, 6]\n",
    "将 1 插入到位置 0。\n",
    "数组变为：[1, 2, 5, 9, 5, 6]\n",
    "第四步：下一个元素是 5（索引 4）。\n",
    "\n",
    "比较 5 和 9，5 < 9，移动 9 向右。\n",
    "数组变为：[1, 2, 5, 9, 9, 6]\n",
    "比较 5 和 5，不需要移动。\n",
    "将 5 插入到索引 3。\n",
    "数组变为：[1, 2, 5, 5, 9, 6]\n",
    "第五步：最后一个元素是 6（索引 5）。\n",
    "\n",
    "比较 6 和 9，6 < 9，移动 9 向右。\n",
    "数组变为：[1, 2, 5, 5, 9, 9]\n",
    "比较 6 和 5，不需要移动。\n",
    "将 6 插入到索引 4。\n",
    "数组变为：[1, 2, 5, 5, 6, 9]\n",
    "##\n",
    "\n",
    "def quickinsert(nums):\n",
    "    for i in range(1,len(nums)):\n",
    "        key = nums[i]\n",
    "        j = i-1\n",
    "\n",
    "        while j>=0 and nums[j]>key:\n",
    "            nums[j+1] = nums[j]\n",
    "            j = j-1\n",
    "\n",
    "        nums[j+1] = key\n",
    "    return nums\n",
    "        \n",
    "nums = [1,56,5,7,128,68,9,55]\n",
    "quickinsert(nums)"
   ]
  },
  {
   "cell_type": "code",
   "execution_count": 12,
   "id": "5198a19f-dd80-4cd1-8eda-d01cebc0a001",
   "metadata": {},
   "outputs": [
    {
     "data": {
      "text/plain": [
       "[11, 12, 22, 25, 64]"
      ]
     },
     "execution_count": 12,
     "metadata": {},
     "output_type": "execute_result"
    }
   ],
   "source": [
    "##简单选择 遍历未排序部分：\n",
    "\n",
    "##从数组的第一个元素开始，假设这个位置是当前最小值的位置。\n",
    "寻找最小值：\n",
    "\n",
    "##遍历数组中未排序的部分，找到最小值并记录其索引。\n",
    "交换位置：\n",
    "\n",
    "##将找到的最小值与当前最小值的位置进行交换。\n",
    "##重复操作：\n",
    "\n",
    "##对剩下的未排序部分重复上述步骤，直到整个数组排序完成。\n",
    "def simpyselect(nums):\n",
    "    for i in range(0,len(nums)):\n",
    "        minnum = i\n",
    "        for j in range(i+1,len(nums)):\n",
    "            if nums[j]<nums[minnum]:\n",
    "                minnum=j\n",
    "\n",
    "        nums[i], nums[minnum] =nums[minnum],nums[i]\n",
    "    return nums\n",
    "\n",
    "\n",
    "nums = [64, 25, 12, 22, 11]\n",
    "simpyselect(nums)"
   ]
  },
  {
   "cell_type": "code",
   "execution_count": null,
   "id": "894f8fe7-e55c-44d2-b28e-7a919f1df7e2",
   "metadata": {},
   "outputs": [],
   "source": [
    "##希尔基于插入排序的算法\n",
    "def shell_sort(nums):\n",
    "    n = len(nums)\n",
    "    gap = n // 2  # 初始增量为数组长度的一半\n",
    "\n",
    "    while gap > 0:\n",
    "        # 对每个间隔进行插入排序\n",
    "        for i in range(gap, n):\n",
    "            temp = nums[i]  # 当前要插入的元素\n",
    "            j = i\n",
    "\n",
    "            # 插入排序\n",
    "            while j >= gap and nums[j - gap] > temp:\n",
    "                nums[j] = nums[j - gap]  # 移动元素\n",
    "                j -= gap\n",
    "            \n",
    "            nums[j] = temp  # 插入元素\n",
    "\n",
    "        gap //= 2  # 减小增量\n",
    "\n",
    "    return nums\n",
    "\n",
    "# 示例\n",
    "nums = [12, 34, 54, 2, 3]\n",
    "sorted_nums = shell_sort(nums)\n",
    "print(sorted_nums)  # 输出: [2, 3, 12, 34, 54]\n"
   ]
  },
  {
   "cell_type": "code",
   "execution_count": 15,
   "id": "02a6d72d-08b3-467d-bf89-ec037310405d",
   "metadata": {},
   "outputs": [
    {
     "data": {
      "text/plain": [
       "'1587'"
      ]
     },
     "execution_count": 15,
     "metadata": {},
     "output_type": "execute_result"
    }
   ],
   "source": [
    "a = [15,8,7]\n",
    "a = map(str,a)\n",
    "a = ''.join(a)\n",
    "a = list(a)\n",
    "\n",
    "for i in range(len(a)):\n",
    "    for j in range(len(a)-i-j):\n",
    "        if a[j]>a[j+1]:\n",
    "            a[j],a[j+1] = a[j+1],a[j]\n",
    "a=''.join(a)\n",
    "a"
   ]
  },
  {
   "cell_type": "code",
   "execution_count": null,
   "id": "62b4fe60-aa86-49b3-9108-1a4a2ca97ea4",
   "metadata": {},
   "outputs": [],
   "source": []
  }
 ],
 "metadata": {
  "kernelspec": {
   "display_name": "Python 3 (ipykernel)",
   "language": "python",
   "name": "python3"
  },
  "language_info": {
   "codemirror_mode": {
    "name": "ipython",
    "version": 3
   },
   "file_extension": ".py",
   "mimetype": "text/x-python",
   "name": "python",
   "nbconvert_exporter": "python",
   "pygments_lexer": "ipython3",
   "version": "3.12.9"
  }
 },
 "nbformat": 4,
 "nbformat_minor": 5
}
