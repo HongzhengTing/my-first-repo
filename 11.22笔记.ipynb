{
 "cells": [
  {
   "cell_type": "code",
   "execution_count": null,
   "id": "d65c9a2a-40cf-447a-b7bc-83b15ac93144",
   "metadata": {},
   "outputs": [],
   "source": [
    "封装好处：1. 安全性 2.复用性 3. 不需要关心如何实现 知道功能用就可以了\n",
    "\n",
    "什么是继承：重点回答： inheritance \"is_a\" relationship between two objects \n",
    "\n",
    "python 三种主要的定义属性或者方法的类型(access modifier)： public类型，protected类型，private类型\n",
    "\n",
    "继承可以大量的节省工作量 比如两个东西又共同的东西存在 用共同的(父类)class写共同的点 然后有差别的地方在各自的子类各自实现就行了\n",
    "\n",
    "overriding: 一个方法名但是不同class里面的这个方法可能传入的参数不一样\n",
    "\n",
    "abstract:检查清单 检查子类里面是否全部完成了父类里面的所有method 不然就会报错\n",
    "interface:和abstract的区别就是abstract里面可能有非abstract members的存在， 而interface里面只能是abstract(concrete == non abstract)的元素, 父类进行更改其子类也会受到影响\n",
    "          接口就可以解决继承中的问题，高耦合性的问题， 所有interface里面都是public的\n",
    "          \n",
    "inerface的缺点就是继承的优点， 继承的缺点就是interface的优点\n",
    "\n",
    "所有developer的核心：高内聚（cohesion）（模块化，独立完成活动的能力），低耦合(coupling)  （要check and balance\n",
    "\n",
    "\n",
    "\n"
   ]
  }
 ],
 "metadata": {
  "kernelspec": {
   "display_name": "Python 3 (ipykernel)",
   "language": "python",
   "name": "python3"
  },
  "language_info": {
   "codemirror_mode": {
    "name": "ipython",
    "version": 3
   },
   "file_extension": ".py",
   "mimetype": "text/x-python",
   "name": "python",
   "nbconvert_exporter": "python",
   "pygments_lexer": "ipython3",
   "version": "3.12.7"
  }
 },
 "nbformat": 4,
 "nbformat_minor": 5
}
