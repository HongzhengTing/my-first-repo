{
 "cells": [
  {
   "cell_type": "code",
   "execution_count": null,
   "id": "d479723f-e7de-468d-a666-1d1295884584",
   "metadata": {},
   "outputs": [],
   "source": []
  }
 ],
 "metadata": {
  "kernelspec": {
   "display_name": "",
   "name": ""
  },
  "language_info": {
   "name": ""
  }
 },
 "nbformat": 4,
 "nbformat_minor": 5
}
