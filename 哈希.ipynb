{
 "cells": [
  {
   "cell_type": "code",
   "execution_count": null,
   "id": "601f2676-2ddb-404a-b640-7b80a55a8d30",
   "metadata": {},
   "outputs": [],
   "source": [
    "#242. 有效的字母异位词 第一种 \n",
    "#直接看两个字符串排序之后一不一样就完事儿了\n",
    "def isAnagram(self, s, t):\n",
    "        return sorted(s) == sorted(t)\n"
   ]
  },
  {
   "cell_type": "code",
   "execution_count": 10,
   "id": "75372818-b5c1-4fd6-bc46-7ea677bdecea",
   "metadata": {},
   "outputs": [
    {
     "data": {
      "text/plain": [
       "defaultdict(int, {'a': 3, 's': 4, 'f': 2, 'g': 2, 'h': 1})"
      ]
     },
     "execution_count": 10,
     "metadata": {},
     "output_type": "execute_result"
    }
   ],
   "source": [
    "#242. 有效的字母异位词 第二种 \n",
    "#defaultdict是一种计数字典的方法\n",
    "from collections import defaultdict\n",
    "\n",
    "def isAnagram(self, s: str, t: str):\n",
    "       \n",
    "        #通过这种defaultdict的方法可以制作一个计数字典，现在的count就是一个计数字典 他可以将字符串里面的每个字符出现的次数用字典的形式打出来\n",
    "        count = defaultdict(int)\n",
    "        \n",
    "        # 遍历字符串 s，增加字符计数\n",
    "        for char in s:\n",
    "            count[char] += 1\n",
    "            \n",
    "        # 遍历字符串 t，减少字符计数\n",
    "        for char in t:\n",
    "            count[char] -= 1\n",
    "          \n",
    "        #通过将计数字典先加后减的方式只需要判断现在字典里面是否有值就可以了，通过dict特有的value()进行检查\n",
    "        for value in count.values():\n",
    "            if value!= 0:\n",
    "                return False\n",
    "        else:\n",
    "            return True"
   ]
  },
  {
   "cell_type": "code",
   "execution_count": 15,
   "id": "370c3709-7df0-408f-9786-d8d7cac4e8b3",
   "metadata": {},
   "outputs": [],
   "source": [
    "#leetcode 349 两个数组的交集\n",
    "def solu(nums1,nnums2):\n",
    "    #这道题的思路是通过set特有的交集符号&来完成\n",
    "    #首先把两个nums1,nums2变成交集 因为我们只要交集的元素就可以所以去重之后不会影响结果，\n",
    "    \n",
    "    nums1 = set(nums1)\n",
    "    nums2 = set(nums2)\n",
    "    #然后进行set的&操作求交集就行了\n",
    "    result = nums1&nums2\n",
    "    \n",
    "    return(list(result))"
   ]
  },
  {
   "cell_type": "code",
   "execution_count": null,
   "id": "4ca03535-464d-496e-99a1-649917c7dc34",
   "metadata": {},
   "outputs": [],
   "source": [
    "#leetcode 202 快乐数\n",
    "def isHappy(self, n):\n",
    "        \"\"\"\n",
    "        :type n: int\n",
    "        :rtype: bool\n",
    "        \"\"\"\n",
    "        # 定义一个辅助函数，用于计算一个数的每个位置上的数字的平方和\n",
    "        #这个get_next函数的意思就是将一个数每从最右位开始算平方然后把结果存到total_sum中去 然后去掉最右位之后重复，知道数字消失\n",
    "        def get_next(number):\n",
    "            total_sum = 0\n",
    "            while number > 0:\n",
    "                digit = number % 10  # 取最后一位数字\n",
    "                total_sum =total_sum + digit * digit  # 计算该数字的平方并累加到总和中\n",
    "                number //= 10  # 去掉最后一位数字\n",
    "            return total_sum\n",
    "\n",
    "        # 使用一个集合来记录已经出现过的数字，防止陷入无限循环\n",
    "        # 因为有的数每一位拆开之后进入下一轮的时候是同样的数字\n",
    "        seen = set()\n",
    "        \n",
    "        # 当 n 不等于 1 且 n 不在 seen 集合中时，继续循环\n",
    "        #我们只需要找到符合快乐数的结果就行了 如果陷入循环了后面会false \n",
    "        #反正只要n不是1而且经过get_next函数算出来的结果没重复我们就用get_next函数继续找 直到找到1也就是快乐数\n",
    "        while n != 1 and n not in seen:\n",
    "            seen.add(n)  # 将当前数字添加到 seen 集合中\n",
    "            n = get_next(n)  # 计算下一个数字\n",
    "        \n",
    "        # 如果 n 等于 1，返回 True，表示是快乐数；否则返回 False\n",
    "        if n ==1:\n",
    "            return True\n",
    "        else:\n",
    "            return False"
   ]
  },
  {
   "cell_type": "code",
   "execution_count": 16,
   "id": "bbfc0021-c469-4cd0-93a8-0811ef2abf92",
   "metadata": {},
   "outputs": [
    {
     "data": {
      "text/plain": [
       "198"
      ]
     },
     "execution_count": 16,
     "metadata": {},
     "output_type": "execute_result"
    }
   ],
   "source": [
    "#leetcode1 两数之和\n",
    "# 创建一个字典来存储数值和它们的索引\n",
    "        num_to_index = {}\n",
    "        \n",
    "        # 手动维护一个索引变量来遍历数组\n",
    "        index = 0\n",
    "        while index < len(nums):\n",
    "            #每次轮到下一个数的时候会顺便把数的索引赋值给num\n",
    "            num = nums[index]\n",
    "            # 计算目标值与当前数的差值\n",
    "            complement = target - num\n",
    "            \n",
    "            # 检查差值是否在字典中\n",
    "            if complement in num_to_index:\n",
    "                # 如果在字典中，返回当前数的索引和差值的索引\n",
    "                #注意，这里返回的差值complement就是目标值target-现在值num的结果的索引 所以complement一定是另外一个数\n",
    "                return [num_to_index[complement], index]\n",
    "            \n",
    "            # 如果不在字典中，将当前数和它的索引添加到字典中\n",
    "            #字典的添加方式就是这样的num是数值 index是num的索引 {100：1}\n",
    "            num_to_index[num] = index\n",
    "            \n",
    "            # 增加索引\n",
    "            index += 1\n",
    "        \n",
    "        # 如果没有找到符合条件的两个数，返回空列表\n",
    "        return []"
   ]
  },
  {
   "cell_type": "code",
   "execution_count": 17,
   "id": "cfb1382a-914a-4fde-aec5-81ad4220e540",
   "metadata": {},
   "outputs": [
    {
     "data": {
      "text/plain": [
       "{100: 1}"
      ]
     },
     "execution_count": 17,
     "metadata": {},
     "output_type": "execute_result"
    }
   ],
   "source": [
    "#leetcode 383\n",
    "from collections import defaultdict\n",
    "\n",
    "def canConstruct(ransomNote, magazine):\n",
    "    # 创建两个 defaultdict，默认值为 0\n",
    "    count = defaultdict(int)\n",
    "   \n",
    "    \n",
    "    # 统计 ransomNote 中每个字符的数量\n",
    "    for char in ransomNote:\n",
    "        count[char] += 1\n",
    "    \n",
    "    # 统计 magazine 中每个字符的数量\n",
    "    for char in magazine:\n",
    "        count[char] -= 1\n",
    "    \n",
    "    # 遍历 ransomNote 中的字符，检查 magazine 中是否有足够的字符\n",
    "    ## 如果某个字符在 ransomNote 中需要更多的次数，则说明ransomNote不能被magazine覆盖掉则返回 False\n",
    "    for value in count.values():\n",
    "        if values >0:\n",
    "            return False\n",
    "    \n",
    "    return True"
   ]
  },
  {
   "cell_type": "code",
   "execution_count": null,
   "id": "b4042431-f9f1-4d23-85e2-535d4d32c0e2",
   "metadata": {},
   "outputs": [],
   "source": []
  }
 ],
 "metadata": {
  "kernelspec": {
   "display_name": "Python 3 (ipykernel)",
   "language": "python",
   "name": "python3"
  },
  "language_info": {
   "codemirror_mode": {
    "name": "ipython",
    "version": 3
   },
   "file_extension": ".py",
   "mimetype": "text/x-python",
   "name": "python",
   "nbconvert_exporter": "python",
   "pygments_lexer": "ipython3",
   "version": "3.12.7"
  }
 },
 "nbformat": 4,
 "nbformat_minor": 5
}
