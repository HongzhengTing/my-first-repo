{
 "cells": [
  {
   "cell_type": "code",
   "execution_count": 2,
   "id": "db2d2064-60e9-4b34-9b19-e06717bda1a1",
   "metadata": {},
   "outputs": [
    {
     "data": {
      "text/plain": [
       "['d', 'f', 'h', 'k', 'l']"
      ]
     },
     "execution_count": 2,
     "metadata": {},
     "output_type": "execute_result"
    }
   ],
   "source": [
    "str1 = 'dfg#hj#kl'\n",
    "list1 = []\n",
    "for char in str1:\n",
    "    if char != '#':\n",
    "        list1.append(char)\n",
    "    else:\n",
    "        list1.pop()\n",
    "list1"
   ]
  },
  {
   "cell_type": "code",
   "execution_count": 3,
   "id": "2217252a-d576-4f6e-86eb-3734d1248ddf",
   "metadata": {},
   "outputs": [],
   "source": [
    "def backspaceCompare(self, s, t):\n",
    "        list1 = []\n",
    "        list2 = []\n",
    "        for char in s:\n",
    "            if char != '#':\n",
    "                list1.append(char)\n",
    "            else:\n",
    "                lsit1.pop()\n",
    "        \n",
    "        for char in t:\n",
    "            if char != '#':\n",
    "                list2.append(char)\n",
    "            else:\n",
    "                lsit2.pop()\n",
    "        return list1 == list2\n",
    "s = \"ab#c\"\n",
    "t = \"ad#c\""
   ]
  },
  {
   "cell_type": "code",
   "execution_count": 3,
   "id": "62ad6d2c-37b1-432c-9cf5-d5a610a4c79d",
   "metadata": {},
   "outputs": [
    {
     "data": {
      "text/plain": [
       "4"
      ]
     },
     "execution_count": 3,
     "metadata": {},
     "output_type": "execute_result"
    }
   ],
   "source": [
    "def OMN(num1,num2):\n",
    "    total = 0\n",
    "    for i in range(num1):\n",
    "        total += i \n",
    "    for j in range(num2):\n",
    "        total += j \n",
    "    return total\n",
    "\n",
    "OMN(3,2)\n"
   ]
  },
  {
   "cell_type": "code",
   "execution_count": null,
   "id": "61c1af47-d195-48ce-897e-fe342bb62861",
   "metadata": {},
   "outputs": [],
   "source": []
  }
 ],
 "metadata": {
  "kernelspec": {
   "display_name": "Python 3 (ipykernel)",
   "language": "python",
   "name": "python3"
  },
  "language_info": {
   "codemirror_mode": {
    "name": "ipython",
    "version": 3
   },
   "file_extension": ".py",
   "mimetype": "text/x-python",
   "name": "python",
   "nbconvert_exporter": "python",
   "pygments_lexer": "ipython3",
   "version": "3.12.8"
  }
 },
 "nbformat": 4,
 "nbformat_minor": 5
}
