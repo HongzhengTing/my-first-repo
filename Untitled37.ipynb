{
 "cells": [
  {
   "cell_type": "code",
   "execution_count": 17,
   "id": "0889dee7-9473-4ba6-9b31-d8cefc5952a2",
   "metadata": {},
   "outputs": [
    {
     "name": "stdout",
     "output_type": "stream",
     "text": [
      "1\n",
      "2\n",
      "2\n"
     ]
    }
   ],
   "source": [
    "class dog():\n",
    "    def __init__(self,name):\n",
    "        self.name = name\n",
    "    \n",
    "    def speak(self):\n",
    "        print('叫了')\n",
    "        \n",
    "    @staticmethod\n",
    "    def wag(count):\n",
    "        return count\n",
    "    number = 1\n",
    "    \n",
    "    @classmethod\n",
    "    def change(cls):\n",
    "        cls.number = 2\n",
    "        \n",
    "        \n",
    "dog1 = dog('狗1')\n",
    "\n",
    "dog2 = dog('狗1')\n",
    "print(dog1.number)\n",
    "\n",
    "dog.change()\n",
    "print(dog1.number)\n",
    "print(dog2.number)"
   ]
  },
  {
   "cell_type": "code",
   "execution_count": 41,
   "id": "868011f0-6679-4d15-a115-4d21b2625a97",
   "metadata": {},
   "outputs": [
    {
     "name": "stdout",
     "output_type": "stream",
     "text": [
      "1\n",
      "None\n"
     ]
    }
   ],
   "source": [
    "class A:\n",
    "    def add(self):\n",
    "        print('1')\n",
    "class B(A):\n",
    "    def add(self):\n",
    "        print('2')\n",
    "class C(B):\n",
    "    def add(self):\n",
    "        print(super(B,self).add())\n",
    "\n",
    "\n",
    "obj1 = C()\n",
    "obj1.add()"
   ]
  },
  {
   "cell_type": "code",
   "execution_count": null,
   "id": "7f6caec0-54a7-4ac3-a714-4b34d0492a09",
   "metadata": {},
   "outputs": [],
   "source": []
  }
 ],
 "metadata": {
  "kernelspec": {
   "display_name": "Python 3 (ipykernel)",
   "language": "python",
   "name": "python3"
  },
  "language_info": {
   "codemirror_mode": {
    "name": "ipython",
    "version": 3
   },
   "file_extension": ".py",
   "mimetype": "text/x-python",
   "name": "python",
   "nbconvert_exporter": "python",
   "pygments_lexer": "ipython3",
   "version": "3.12.7"
  }
 },
 "nbformat": 4,
 "nbformat_minor": 5
}
