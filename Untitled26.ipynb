{
 "cells": [
  {
   "cell_type": "code",
   "execution_count": 1,
   "id": "a36d454c-398b-48a7-b874-33c2476b5e0f",
   "metadata": {},
   "outputs": [
    {
     "ename": "IndentationError",
     "evalue": "expected an indented block after 'if' statement on line 24 (1345362955.py, line 26)",
     "output_type": "error",
     "traceback": [
      "\u001b[1;36m  Cell \u001b[1;32mIn[1], line 26\u001b[1;36m\u001b[0m\n\u001b[1;33m    if x == len(combin(s,i))-1:\u001b[0m\n\u001b[1;37m    ^\u001b[0m\n\u001b[1;31mIndentationError\u001b[0m\u001b[1;31m:\u001b[0m expected an indented block after 'if' statement on line 24\n"
     ]
    }
   ],
   "source": [
    "s = \"abcabcabcabc\"\n",
    "s=list(s)\n",
    "def combin(s,i):\n",
    "    left = 0 \n",
    "    count = 2\n",
    "    result = []\n",
    "    while left < len(s)-1:\n",
    "        result.append(''.join(s[left:left+i]))\n",
    "        left = left +i\n",
    "    return result\n",
    "    \n",
    "\n",
    "\n",
    "x = 0\n",
    "while x < len(combin(s,i)):\n",
    "    i = 0\n",
    "    if combin(s,i)[x] == combin(s,i)[x-1]:\n",
    "        x = x+1\n",
    "        if x == len(combin(s,i))-1:\n",
    "            return True\n",
    "\n",
    "    else:\n",
    "        i = i+1\n",
    "        if combin(s,i)[x] == combin(s,i)[x-1]:\n",
    "        \n",
    "        if x == len(combin(s,i))-1:\n",
    "            return True\n",
    "    return False\n",
    "\n",
    "        \n",
    "        \n",
    "        \n",
    "\n",
    "    \n",
    "\n"
   ]
  },
  {
   "cell_type": "code",
   "execution_count": null,
   "id": "c5b06561-1d55-49f5-9255-4c5789b21d3d",
   "metadata": {},
   "outputs": [],
   "source": []
  }
 ],
 "metadata": {
  "kernelspec": {
   "display_name": "Python 3 (ipykernel)",
   "language": "python",
   "name": "python3"
  },
  "language_info": {
   "codemirror_mode": {
    "name": "ipython",
    "version": 3
   },
   "file_extension": ".py",
   "mimetype": "text/x-python",
   "name": "python",
   "nbconvert_exporter": "python",
   "pygments_lexer": "ipython3",
   "version": "3.12.7"
  }
 },
 "nbformat": 4,
 "nbformat_minor": 5
}
