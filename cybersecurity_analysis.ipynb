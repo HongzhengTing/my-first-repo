{
 "cells": [
  {
   "cell_type": "code",
   "execution_count": 1,
   "id": "0098d9d1-b71b-44ad-be98-ccd9c7a858db",
   "metadata": {},
   "outputs": [
    {
     "name": "stdout",
     "output_type": "stream",
     "text": [
      "   timestamp        source_ip   destination_ip  source_port  destination_port  \\\n",
      "0      15795    192.168.4.123  192.168.156.166        43310             56413   \n",
      "1        860    192.168.73.97    192.168.41.21         1933             33273   \n",
      "2      76820   192.168.117.38   192.168.41.141        44255             42582   \n",
      "3      54886  192.168.140.159  192.168.112.105         1758             14672   \n",
      "4       6265   192.168.46.228   192.168.191.17        30723             27049   \n",
      "\n",
      "  protocol  packet_length  attack_type geo_location  \n",
      "0     ICMP            413            0           RU  \n",
      "1      UDP            596            0           IN  \n",
      "2      TCP           1491            0           RU  \n",
      "3     ICMP            272            0           UK  \n",
      "4      UDP            744            0           UK  \n"
     ]
    }
   ],
   "source": [
    "import numpy as np\n",
    "import pandas as pd\n",
    "\n",
    "# 设置随机种子，保证结果可复现\n",
    "np.random.seed(42)\n",
    "\n",
    "# 生成1000条数据\n",
    "num_samples = 1000\n",
    "\n",
    "# 时间戳（模拟 24 小时内的流量）\n",
    "timestamps = np.random.randint(0, 86400, num_samples)\n",
    "\n",
    "# 随机生成 IP 地址（格式：192.168.x.y）\n",
    "source_ips = [f\"192.168.{np.random.randint(0, 255)}.{np.random.randint(1, 255)}\" for _ in range(num_samples)]\n",
    "destination_ips = [f\"192.168.{np.random.randint(0, 255)}.{np.random.randint(1, 255)}\" for _ in range(num_samples)]\n",
    "\n",
    "# 端口号（0-65535）\n",
    "source_ports = np.random.randint(1, 65535, num_samples)\n",
    "destination_ports = np.random.randint(1, 65535, num_samples)\n",
    "\n",
    "# 协议（假设 1:TCP, 2:UDP, 3:ICMP）\n",
    "protocols = np.random.choice([\"TCP\", \"UDP\", \"ICMP\"], num_samples)\n",
    "\n",
    "# 数据包长度（模拟正常数据包大小）\n",
    "packet_lengths = np.random.randint(40, 1500, num_samples)\n",
    "\n",
    "# 攻击类型（正常：0，攻击：1）\n",
    "attack_types = np.random.choice([0, 1], num_samples, p=[0.95, 0.05])\n",
    "\n",
    "# 地理位置（模拟流量来源）\n",
    "geo_locations = np.random.choice([\"US\", \"CN\", \"RU\", \"IN\", \"UK\", \"DE\"], num_samples)\n",
    "\n",
    "# 组合成 DataFrame\n",
    "df = pd.DataFrame({\n",
    "    \"timestamp\": timestamps,\n",
    "    \"source_ip\": source_ips,\n",
    "    \"destination_ip\": destination_ips,\n",
    "    \"source_port\": source_ports,\n",
    "    \"destination_port\": destination_ports,\n",
    "    \"protocol\": protocols,\n",
    "    \"packet_length\": packet_lengths,\n",
    "    \"attack_type\": attack_types,\n",
    "    \"geo_location\": geo_locations\n",
    "})\n",
    "\n",
    "# 显示前几行\n",
    "print(df.head())\n"
   ]
  },
  {
   "cell_type": "code",
   "execution_count": null,
   "id": "ef506e80-0dee-4b75-9f28-0bd2a8bb9d45",
   "metadata": {},
   "outputs": [],
   "source": []
  }
 ],
 "metadata": {
  "kernelspec": {
   "display_name": "Python 3 (ipykernel)",
   "language": "python",
   "name": "python3"
  },
  "language_info": {
   "codemirror_mode": {
    "name": "ipython",
    "version": 3
   },
   "file_extension": ".py",
   "mimetype": "text/x-python",
   "name": "python",
   "nbconvert_exporter": "python",
   "pygments_lexer": "ipython3",
   "version": "3.12.9"
  }
 },
 "nbformat": 4,
 "nbformat_minor": 5
}
