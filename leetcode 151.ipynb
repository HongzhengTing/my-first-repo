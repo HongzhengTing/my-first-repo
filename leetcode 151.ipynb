{
 "cells": [
  {
   "cell_type": "code",
   "execution_count": 26,
   "id": "203ee1ce-635d-4bff-8896-ca05fef52e30",
   "metadata": {},
   "outputs": [
    {
     "data": {
      "text/plain": [
       "'example good a'"
      ]
     },
     "execution_count": 26,
     "metadata": {},
     "output_type": "execute_result"
    }
   ],
   "source": [
    "s = \"a good      example\"\n",
    "##leetcode 151\n",
    "def space(s):\n",
    "    s=list(s)\n",
    "    left = 0\n",
    "    while left <= len(s)-1:\n",
    "        if s[left] == ' ' and s[left +1] == ' ':\n",
    "            s.pop(left)\n",
    "        else:\n",
    "            left = left +1\n",
    "\n",
    "    return ''.join(s)\n",
    "\n",
    "afterspace = space(s)\n",
    "\n",
    "tolist = afterspace.split()\n",
    "\n",
    "def turn(tolist):\n",
    "    left = 0\n",
    "    right = len(tolist)-1\n",
    "    temp = 0\n",
    "    while left <= right:\n",
    "        temp = tolist[left]\n",
    "        tolist[left] = tolist[right]\n",
    "        tolist[right] = temp\n",
    "        temp = 0\n",
    "        left = left +1\n",
    "        right = right -1\n",
    "        \n",
    "    return ' '.join(tolist)\n",
    "\n",
    "turn(tolist)\n",
    "                \n",
    "\n",
    "    "
   ]
  },
  {
   "cell_type": "code",
   "execution_count": null,
   "id": "0f109ad0-461b-469c-8086-43c00d09a3a8",
   "metadata": {},
   "outputs": [],
   "source": [
    "输入示例\n",
    "2\n",
    "abcdefg\n",
    "输出示例\n",
    "fgabcde"
   ]
  },
  {
   "cell_type": "code",
   "execution_count": 35,
   "id": "68d722b9-46a1-4e81-a087-b5de30cacb4b",
   "metadata": {},
   "outputs": [
    {
     "data": {
      "text/plain": [
       "'fgabcde'"
      ]
     },
     "execution_count": 35,
     "metadata": {},
     "output_type": "execute_result"
    }
   ],
   "source": [
    "##kama 55\n",
    "\n",
    "def move(s,k):\n",
    "    s = list(s)\n",
    "    temp = 0\n",
    "    while k >0:\n",
    "        temp = s[-1]\n",
    "        s.pop(-1)\n",
    "        s.insert(0,temp)\n",
    "        k = k-1\n",
    "    return ''.join(s)\n",
    "s= 'abcdefg'\n",
    "k = 2\n",
    "move(s,k)\n",
    "        \n",
    "    \n"
   ]
  },
  {
   "cell_type": "code",
   "execution_count": null,
   "id": "1ff80e5b-3503-4992-b57c-292ed41c9cc1",
   "metadata": {},
   "outputs": [],
   "source": [
    "haystack = \"sadbutsad\", needle = \"sad\"\n",
    "输出：0\n",
    "解释：\"sad\" 在下标 0 和 6 处匹配。"
   ]
  },
  {
   "cell_type": "code",
   "execution_count": 49,
   "id": "d649b792-0f57-448b-91ad-3801348743bc",
   "metadata": {},
   "outputs": [
    {
     "data": {
      "text/plain": [
       "0"
      ]
     },
     "execution_count": 49,
     "metadata": {},
     "output_type": "execute_result"
    }
   ],
   "source": [
    "##leetcode 28\n",
    "\n",
    "\n",
    "def fit(haystack,needle):\n",
    "    haystack = list(haystack)\n",
    "    needle = list(needle)\n",
    "    count = len(needle)\n",
    "    Hleft = 0\n",
    "    Nleft = 0\n",
    "    while Hleft < len(haystack):\n",
    "        if haystack[Hleft] == needle[Nleft]:\n",
    "            count = count -1\n",
    "            Hleft = Hleft +1\n",
    "            Nleft = Nleft +1\n",
    "            if count == 0:\n",
    "                return (Hleft - len(needle))\n",
    "                \n",
    "        else:\n",
    "            count = len(needle)\n",
    "            Nleft = 0\n",
    "            Hleft = Hleft -Nleft +1\n",
    "    return -1\n",
    "\n",
    "\n",
    "haystack = \"sadbutsad\"\n",
    "needle = \"sad\"\n",
    "fit(haystack,needle)\n",
    "                \n",
    "\n",
    "\n",
    "\n",
    "\n",
    "        "
   ]
  },
  {
   "cell_type": "code",
   "execution_count": 2,
   "id": "64735d3e-841e-4028-a91e-04785f537876",
   "metadata": {},
   "outputs": [
    {
     "data": {
      "text/plain": [
       "3"
      ]
     },
     "execution_count": 2,
     "metadata": {},
     "output_type": "execute_result"
    }
   ],
   "source": [
    "##leetcode 28\n",
    "haystack = \"sadbutsad\"\n",
    "needle = \"but\"\n",
    "index = haystack.find(needle)\n",
    "index"
   ]
  },
  {
   "cell_type": "code",
   "execution_count": null,
   "id": "ca57974f-a020-4446-a030-d9e1d33d7cdf",
   "metadata": {},
   "outputs": [],
   "source": []
  }
 ],
 "metadata": {
  "kernelspec": {
   "display_name": "Python 3 (ipykernel)",
   "language": "python",
   "name": "python3"
  },
  "language_info": {
   "codemirror_mode": {
    "name": "ipython",
    "version": 3
   },
   "file_extension": ".py",
   "mimetype": "text/x-python",
   "name": "python",
   "nbconvert_exporter": "python",
   "pygments_lexer": "ipython3",
   "version": "3.12.7"
  }
 },
 "nbformat": 4,
 "nbformat_minor": 5
}
