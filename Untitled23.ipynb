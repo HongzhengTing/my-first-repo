{
 "cells": [
  {
   "cell_type": "code",
   "execution_count": 3,
   "id": "c1946670-ea89-45ea-a416-8d7a3035ba0c",
   "metadata": {},
   "outputs": [
    {
     "data": {
      "text/plain": [
       "True"
      ]
     },
     "execution_count": 3,
     "metadata": {},
     "output_type": "execute_result"
    }
   ],
   "source": [
    "num = '1'\n",
    "num.isdigit()"
   ]
  },
  {
   "cell_type": "code",
   "execution_count": 7,
   "id": "40765acd-521d-4eb1-9c40-a16f2b06c118",
   "metadata": {},
   "outputs": [
    {
     "data": {
      "text/plain": [
       "['1', '2', '3']"
      ]
     },
     "execution_count": 7,
     "metadata": {},
     "output_type": "execute_result"
    }
   ],
   "source": [
    "num = '123'\n",
    "num = list(num)\n",
    "num"
   ]
  },
  {
   "cell_type": "code",
   "execution_count": 21,
   "id": "08898407-6ebc-4427-b27f-e94c74534d67",
   "metadata": {},
   "outputs": [
    {
     "name": "stdout",
     "output_type": "stream",
     "text": [
      "a明白了number明白了b明白了number明白了c明白了number\n"
     ]
    }
   ],
   "source": [
    "def tonum(s):\n",
    "   \n",
    "    s = list(s)\n",
    "    for i in range(0,len(s)):\n",
    "        if s[i].isdigit() == True:\n",
    "            s[i] = 'number'\n",
    "        \n",
    "           \n",
    "    return '明白了'.join(s)\n",
    "s = 'a1b2c3'\n",
    "print(tonum(s))"
   ]
  },
  {
   "cell_type": "code",
   "execution_count": null,
   "id": "3491f640-edd5-4494-a3ce-5b6f14d21f35",
   "metadata": {},
   "outputs": [],
   "source": []
  }
 ],
 "metadata": {
  "kernelspec": {
   "display_name": "Python 3 (ipykernel)",
   "language": "python",
   "name": "python3"
  },
  "language_info": {
   "codemirror_mode": {
    "name": "ipython",
    "version": 3
   },
   "file_extension": ".py",
   "mimetype": "text/x-python",
   "name": "python",
   "nbconvert_exporter": "python",
   "pygments_lexer": "ipython3",
   "version": "3.12.7"
  }
 },
 "nbformat": 4,
 "nbformat_minor": 5
}
