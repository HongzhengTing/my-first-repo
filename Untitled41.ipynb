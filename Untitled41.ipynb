{
 "cells": [
  {
   "cell_type": "code",
   "execution_count": 3,
   "id": "6c481f0c-7db5-44d3-b4f6-4489ecc46c8e",
   "metadata": {},
   "outputs": [
    {
     "name": "stdout",
     "output_type": "stream",
     "text": [
      "haha\n",
      "汪汪\n"
     ]
    }
   ],
   "source": [
    "class animals():\n",
    "    def spark(self):\n",
    "        print('汪汪')\n",
    "\n",
    "\n",
    "class dog(animals):\n",
    "    def spark(self):\n",
    "        print('haha')\n",
    "        super().spark()\n",
    "        \n",
    "animals1 = dog()\n",
    "animals1.spark()\n",
    "    \n",
    "    "
   ]
  },
  {
   "cell_type": "code",
   "execution_count": 5,
   "id": "49ad3427-ae6a-4dcc-9c1f-da3920a5f8f3",
   "metadata": {},
   "outputs": [
    {
     "name": "stdout",
     "output_type": "stream",
     "text": [
      "汪汪\n"
     ]
    }
   ],
   "source": [
    "class animals():\n",
    "    def spark(self):\n",
    "        print('汪汪')\n",
    "def voice(value):\n",
    "    value.spark()\n",
    "voice(animals())"
   ]
  },
  {
   "cell_type": "code",
   "execution_count": 17,
   "id": "b9edf035-4e32-434f-a026-bc34774513f1",
   "metadata": {},
   "outputs": [
    {
     "name": "stdout",
     "output_type": "stream",
     "text": [
      "奔驰 welocome\n",
      "engine中没有start()方法\n"
     ]
    }
   ],
   "source": [
    "class Engine():\n",
    "    def start(self):\n",
    "        print('start engine')\n",
    "class Vehicle():\n",
    "    def __init__(self,brand,engine):\n",
    "        self.brand = brand\n",
    "        self.engine = engine\n",
    "        \n",
    "    def whendrive(self):\n",
    "        print(self.brand,'welocome')\n",
    "        if hasattr(engine,'start') is True:\n",
    "            self.engine.start()\n",
    "        else:\n",
    "            print('engine中没有start()方法')\n",
    "\n",
    "engine = Engine()\n",
    "vehicle1 = Vehicle('奔驰',engine)\n",
    "vehicle1.whendrive()\n",
    "        "
   ]
  },
  {
   "cell_type": "code",
   "execution_count": null,
   "id": "5ea0cd78-da8f-4c6f-b5f2-5fdb106c59e0",
   "metadata": {},
   "outputs": [],
   "source": []
  }
 ],
 "metadata": {
  "kernelspec": {
   "display_name": "Python 3 (ipykernel)",
   "language": "python",
   "name": "python3"
  },
  "language_info": {
   "codemirror_mode": {
    "name": "ipython",
    "version": 3
   },
   "file_extension": ".py",
   "mimetype": "text/x-python",
   "name": "python",
   "nbconvert_exporter": "python",
   "pygments_lexer": "ipython3",
   "version": "3.12.8"
  }
 },
 "nbformat": 4,
 "nbformat_minor": 5
}
