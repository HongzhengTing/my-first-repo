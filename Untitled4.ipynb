{
 "cells": [
  {
   "cell_type": "code",
   "execution_count": 23,
   "id": "507260e9-1863-418a-b9c3-c291b942540a",
   "metadata": {},
   "outputs": [
    {
     "data": {
      "text/plain": [
       "[1, 2, 3, 4, 5]"
      ]
     },
     "execution_count": 23,
     "metadata": {},
     "output_type": "execute_result"
    }
   ],
   "source": [
    "list1 = [i for i in range(1,101)]\n",
    "list2= list1[0:10]\n",
    "list3 =[i for i in list1 if 10<i<20]\n",
    "list2.extend(list3)\n",
    "list2.append(20)\n",
    "list4 = [i**2 for i in list2]\n",
    "list5=[i//3 for i in list2]\n",
    "\n",
    "\n",
    "list4\n",
    "dict = {i:len(str(i)) for i in list4}\n",
    "dict\n",
    "\n",
    "list6 = [1,2,2,3,3,4,5,5]\n",
    "list7 = list(set(list6))\n",
    "list7"
   ]
  },
  {
   "cell_type": "code",
   "execution_count": 12,
   "id": "bd8f0cd5-7243-432b-b259-ebdbccfc0065",
   "metadata": {},
   "outputs": [
    {
     "data": {
      "text/plain": [
       "['banana', 'apple']"
      ]
     },
     "execution_count": 12,
     "metadata": {},
     "output_type": "execute_result"
    }
   ],
   "source": [
    "a= []\n",
    "a.extend(['apple','banana'])\n",
    "\n",
    "len(a)\n",
    "index=a.index('apple')\n",
    "index\n",
    "a.sort(reverse=True)\n",
    "a"
   ]
  },
  {
   "cell_type": "code",
   "execution_count": 18,
   "id": "59dd2378-ef18-4a31-b108-40dbaa9b0294",
   "metadata": {},
   "outputs": [
    {
     "data": {
      "text/plain": [
       "deque(['head', 'tail'])"
      ]
     },
     "execution_count": 18,
     "metadata": {},
     "output_type": "execute_result"
    }
   ],
   "source": [
    "from collections import deque\n",
    "dq = deque()\n",
    "dq.appendleft('head')\n",
    "dq.append('tail')\n",
    "dq"
   ]
  },
  {
   "cell_type": "code",
   "execution_count": 27,
   "id": "45477598-693c-490e-9849-e3ccdead3626",
   "metadata": {},
   "outputs": [
    {
     "data": {
      "text/plain": [
       "False"
      ]
     },
     "execution_count": 27,
     "metadata": {},
     "output_type": "execute_result"
    }
   ],
   "source": [
    "nums_set = set()\n",
    "nums = [1,2,3,5]\n",
    "statue = False\n",
    "for num in nums:\n",
    "    if num in nums_set:\n",
    "        statue = True\n",
    "        break\n",
    "    \n",
    "    num_set.add(num)\n",
    "\n",
    "\n",
    "statue"
   ]
  },
  {
   "cell_type": "code",
   "execution_count": 36,
   "id": "b3f630ea-ea7d-4dc7-a855-8450fba8e6e9",
   "metadata": {},
   "outputs": [
    {
     "name": "stdout",
     "output_type": "stream",
     "text": [
      "True\n"
     ]
    }
   ],
   "source": [
    "def duplicates(lst):\n",
    "    seen = set()\n",
    "    for item in lst:\n",
    "        if item in seen:\n",
    "            return True\n",
    "        seen.add(item)\n",
    "    return False\n",
    "nums1=[1,2,3,1]    \n",
    "print(duplicates(nums1))"
   ]
  },
  {
   "cell_type": "code",
   "execution_count": 39,
   "id": "4aa35953-8e25-450e-b918-f9cfea9998dc",
   "metadata": {},
   "outputs": [
    {
     "name": "stdout",
     "output_type": "stream",
     "text": [
      "None\n"
     ]
    }
   ],
   "source": [
    "def find(num):\n",
    "    num_dict = {}\n",
    "    for number in num:\n",
    "        if number in num_dict:\n",
    "            return number\n",
    "        num_dict[number] = True\n",
    "        return none\n",
    "num = [1,3,4,2]\n",
    "print(find(num))"
   ]
  },
  {
   "cell_type": "code",
   "execution_count": 40,
   "id": "5ceb211c-0e9a-4d82-b8e7-1096dda3f315",
   "metadata": {},
   "outputs": [
    {
     "name": "stdout",
     "output_type": "stream",
     "text": [
      "55\n"
     ]
    }
   ],
   "source": [
    "def fibnumber(n):\n",
    "    if n == 0:\n",
    "        return 0\n",
    "    if n == 1:\n",
    "        return 1\n",
    "    return fibnumber(n-1)+fibnumber(n-2)\n",
    "print(fibnumber(10))"
   ]
  },
  {
   "cell_type": "code",
   "execution_count": null,
   "id": "dfefbb08-193a-49cf-9862-6705f7e8faa8",
   "metadata": {},
   "outputs": [],
   "source": []
  }
 ],
 "metadata": {
  "kernelspec": {
   "display_name": "Python 3 (ipykernel)",
   "language": "python",
   "name": "python3"
  },
  "language_info": {
   "codemirror_mode": {
    "name": "ipython",
    "version": 3
   },
   "file_extension": ".py",
   "mimetype": "text/x-python",
   "name": "python",
   "nbconvert_exporter": "python",
   "pygments_lexer": "ipython3",
   "version": "3.12.7"
  }
 },
 "nbformat": 4,
 "nbformat_minor": 5
}
