{
 "cells": [
  {
   "cell_type": "code",
   "execution_count": 24,
   "id": "b6a8397a-ddf0-4339-bcfe-66db7ab5d1ab",
   "metadata": {},
   "outputs": [
    {
     "name": "stdout",
     "output_type": "stream",
     "text": [
      "True\n"
     ]
    }
   ],
   "source": [
    "s = \"abcabcabcabc\"\n",
    "s=list(s)\n",
    "def combin(s,i):\n",
    "    left = 0 \n",
    "    result = []\n",
    "    while left < len(s):\n",
    "        result.append(''.join(s[left:left+i]))\n",
    "        \n",
    "        \n",
    "        left = left +i\n",
    "        \n",
    "    return result\n",
    "\n",
    "\n",
    "i = 1\n",
    "while i <=  len(s)//2:\n",
    "    all_equal = True\n",
    "    for x in range(1,len(combin(s,i))):\n",
    "        if combin(s,i)[x] !=combin(s,i)[x-1]:\n",
    "            all_equal = False\n",
    "            break\n",
    "    if all_equal == True:\n",
    "        print(True)\n",
    "        break\n",
    "    i = i+1\n",
    "    \n",
    "if not all_equal == True:\n",
    "    print(False)\n",
    "    \n"
   ]
  },
  {
   "cell_type": "code",
   "execution_count": 39,
   "id": "a00cd308-83a6-40fe-bfda-39890643e0ea",
   "metadata": {},
   "outputs": [
    {
     "name": "stdout",
     "output_type": "stream",
     "text": [
      "a b s f b h j d g 123124\n"
     ]
    }
   ],
   "source": [
    "s = 'absfbhjdg123124'\n",
    "al = []\n",
    "di = []\n",
    "for i in range(0,len(s)):\n",
    "    if s[i].isdigit():\n",
    "        di.append(s[i])\n",
    "    elif s[i].isalpha():\n",
    "        al.append(s[i])\n",
    "al = ''.join(al)\n",
    "al = list(al)\n",
    "al = ' '.join(al)\n",
    "\n",
    "di = ''.join(di)\n",
    "print(al,di)"
   ]
  },
  {
   "cell_type": "code",
   "execution_count": null,
   "id": "47e3afb8-5a32-4987-bc77-1a7f62c45f4a",
   "metadata": {},
   "outputs": [],
   "source": []
  }
 ],
 "metadata": {
  "kernelspec": {
   "display_name": "Python 3 (ipykernel)",
   "language": "python",
   "name": "python3"
  },
  "language_info": {
   "codemirror_mode": {
    "name": "ipython",
    "version": 3
   },
   "file_extension": ".py",
   "mimetype": "text/x-python",
   "name": "python",
   "nbconvert_exporter": "python",
   "pygments_lexer": "ipython3",
   "version": "3.12.7"
  }
 },
 "nbformat": 4,
 "nbformat_minor": 5
}
