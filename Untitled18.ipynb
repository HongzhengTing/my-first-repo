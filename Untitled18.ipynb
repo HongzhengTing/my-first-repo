{
 "cells": [
  {
   "cell_type": "code",
   "execution_count": null,
   "id": "50f96dfd-83c0-4821-a11b-e5bb09186b63",
   "metadata": {},
   "outputs": [],
   "source": [
    "def find(nums,target):\n",
    "    left1 = 0\n",
    "    left2 = 0\n",
    "    timer = 0\n",
    "    count = 0\n",
    "\n",
    "    \n",
    "    right = len(nums)-1\n",
    "    result = []\n",
    "    while left1 <= right:\n",
    "        if left2<len(nums) and count < target:\n",
    "            count = count + nums[left2]\n",
    "            timer = timer +1\n",
    "            left2 = left2 +1\n",
    "\n",
    "        elif count == target:\n",
    "            \n",
    "            result.append(nums[left1:left2])\n",
    "            \n",
    "            timer = 0\n",
    "            count = 0\n",
    "            left1 = left1+1\n",
    "            left2 = left1\n",
    "            \n",
    "        elif count > target:\n",
    "\n",
    "            timer = 0\n",
    "            count = 0\n",
    "            left1 = left1+1\n",
    "            left2 = left1\n",
    "    return result\n",
    "\n",
    "nums = [2,3,1,2,4,3]\n",
    "target = 7\n",
    "find(nums,target)\n",
    "\n",
    "            \n",
    "    \n",
    "            \n",
    "        \n",
    "    \n",
    "                    \n",
    "            \n",
    "            \n",
    "        "
   ]
  }
 ],
 "metadata": {
  "kernelspec": {
   "display_name": "Python 3 (ipykernel)",
   "language": "python",
   "name": "python3"
  },
  "language_info": {
   "name": ""
  }
 },
 "nbformat": 4,
 "nbformat_minor": 5
}
