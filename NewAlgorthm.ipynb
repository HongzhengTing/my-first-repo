{
 "cells": [
  {
   "cell_type": "code",
   "execution_count": 4,
   "id": "cc29d2eb-85e5-4c4b-924d-6393d17d72fd",
   "metadata": {},
   "outputs": [
    {
     "data": {
      "text/plain": [
       "[1, 5, 7, 56, 68, 9, 55, 128]"
      ]
     },
     "execution_count": 4,
     "metadata": {},
     "output_type": "execute_result"
    }
   ],
   "source": [
    "##bubble\n",
    "#我使用的是 冒泡排序（Bubble Sort）算法。冒泡排序的核心思想是：从左到右依次比较相邻的两个元素，\n",
    "#如果前一个元素比后一个大，就交换它们的位置。这个过程会在每一轮中把最大的元素“冒泡”到数组的末端。\n",
    "#为了减少不必要的比较，我还加了一个标志 status，如果某一轮没有发生交换，就提前终止循环，从而优化了排序过程，\n",
    "#避免了不必要的全数组遍历。整个算法的时间复杂度最坏情况下是 O(n²)\n",
    "\n",
    "def bu(nums):\n",
    "    \n",
    "    counter = 0\n",
    "    while counter < len(nums)-1:\n",
    "         # 状态标志：标记这一轮是否发生了交换\n",
    "        status = False\n",
    "        # 内层循环：进行相邻元素的比较与交换\n",
    "        i = 0\n",
    "        while i<len(nums)-1:\n",
    "            # 如果当前元素大于下一个元素，则交换它们\n",
    "            if nums[i]>nums[i+1]:\n",
    "                nums[i],nums[i+1] = nums[i+1],nums[i]\n",
    "                # 标记发生了交换\n",
    "                status = True\n",
    "            i = i+1\n",
    "        # 如果这一轮没有发生交换，说明数组已经有序，没有排后面的必要了，可以提前结束\n",
    "        if status == True:\n",
    "            break\n",
    "        counter = counter+1\n",
    "    return nums\n",
    "    \n",
    "nums = [1,56,5,7,128,68,9,55]\n",
    "bu(nums)"
   ]
  },
  {
   "cell_type": "code",
   "execution_count": 25,
   "id": "fbd1831a-5aca-4582-a122-a86b1c3de5f5",
   "metadata": {},
   "outputs": [
    {
     "data": {
      "text/plain": [
       "[1, 5, 7, 9, 55, 56, 68, 128]"
      ]
     },
     "execution_count": 25,
     "metadata": {},
     "output_type": "execute_result"
    }
   ],
   "source": [
    "##quick sort\n",
    "#我使用的是 快速排序（Quick Sort）算法。快速排序的核心思想是通过选定一个 pivot（枢轴）元素，\n",
    "#将数组分成两部分：一部分包含小于 pivot 的元素，另一部分包含大于等于 pivot 的元素。\n",
    "#然后递归地对这两部分进行排序。最后，将排序好的左边部分、pivot 和右边部分拼接起来得到最终的排序结果。\n",
    "#需要注意的是，递归终止的条件是数组长度小于等于 1，因为此时数组已经是有序的了\n",
    "#但是要注意最后加的时候左边和右边的要分别递归 注意的点是因为出现了递归所以要限制一下nums长度小于1时候的情况\n",
    "def  quick(nums):\n",
    "    # 递归终止条件，如果数组的长度小于或等于1，则已经有序\n",
    "    if len(nums)<=1:\n",
    "        return nums\n",
    "        \n",
    "    # 初始化左边（小于pivot）和右边（大于pivot）数组\n",
    "    left =[]\n",
    "    right = []\n",
    "    #priv我选的是第一个\n",
    "    priv = nums[0]\n",
    "\n",
    "    # 从第二个元素开始遍历\n",
    "    pointer = 1\n",
    "    while pointer < len(nums):\n",
    "        # 如果当前元素小于pivot，放到左边数组\n",
    "        if nums[pointer] < priv:\n",
    "            left.append(nums[pointer])\n",
    "        # 如果当前元素大于于pivot，放到右边数组\n",
    "        elif nums[pointer]>= priv:\n",
    "            right.append(nums[pointer])\n",
    "        pointer =pointer+1\n",
    "    #递归之后拼接\n",
    "    return quick(left)+[priv]+quick(right)\n",
    "\n",
    "nums = [1,56,5,7,128,68,9,55]\n",
    "quick(nums)\n",
    "    "
   ]
  },
  {
   "cell_type": "code",
   "execution_count": 20,
   "id": "ea330980-c852-41ea-be5a-2ac158017be2",
   "metadata": {},
   "outputs": [
    {
     "name": "stdout",
     "output_type": "stream",
     "text": [
      "[1, 5, 7, 9, 55, 56, 68, 128]\n"
     ]
    }
   ],
   "source": [
    "#我使用的是 插入排序（Insertion Sort）算法。插入排序的核心思想是：从数组的第二个元素开始，将它插入到前面已排序部分的正确位置。\n",
    "#具体操作是：将当前元素与已排序部分的元素逐个比较，直到找到合适的位置将其插入。这样，随着每一步的插入，已排序部分会逐渐增大，直到整个数组有序\n",
    "\n",
    "\n",
    "def quickinsert(nums):\n",
    "    # 从第二个元素开始，逐步将元素插入到已排序的部分\n",
    "    for i in range(1,len(nums)):\n",
    "        # 当前需要插入的元素\n",
    "        key = nums[i]\n",
    "        # 从当前元素前一个元素开始，与已排序部分进行比较\n",
    "        j = i-1\n",
    "        \n",
    "        # 将比key大的元素都向右移动，直到找到合适的位置\n",
    "        while j>=0 and nums[j]>key:\n",
    "            nums[j+1] = nums[j]\n",
    "            j = j-1\n",
    "        # 将key放到合适的位置 前面j_1了所以要J+1\n",
    "        nums[j+1] = key\n",
    "    return nums\n",
    "        \n",
    "nums = [1,56,5,7,128,68,9,55]\n",
    "quickinsert(nums)\n",
    "\n"
   ]
  },
  {
   "cell_type": "code",
   "execution_count": null,
   "id": "2062a184-d62a-4096-9951-b348ed24ce2f",
   "metadata": {},
   "outputs": [],
   "source": [
    "#选择排序通过多轮选择每一轮未排序部分的最小值，并将其放到已排序部分的末尾。\n",
    "#第一步：从数组的第一个元素开始，假设它是当前未排序部分的最小值。\n",
    "#第二步：遍历数组中未排序部分的每个元素，找到最小值的位置。\n",
    "#第三步：将找到的最小值与当前假设位置的元素交换位置。\n",
    "#第四步：重复以上过程，直到数组完全排序。\n",
    "#交换位置：每次都将最小值和当前元素交换，确保当前元素的位置是正确的，直到整个数组有序。\n",
    "\n",
    "def simpyselect(nums):\n",
    "    \n",
    "    # 外层循环控制每一轮选择最小值的位置\n",
    "    for i in range(0, len(nums)):\n",
    "        minnum = i  # 假设当前 i 位置是最小值的索引\n",
    "        \n",
    "        # 内层循环遍历未排序部分，找到最小值的索引\n",
    "        for j in range(i + 1, len(nums)):\n",
    "            if nums[j] < nums[minnum]:\n",
    "                minnum = j  # 更新最小值的索引\n",
    "\n",
    "        # 交换当前位置和最小值的位置\n",
    "        nums[i], nums[minnum] = nums[minnum], nums[i]\n",
    "    \n",
    "    return nums  # 返回排序后的数组\n"
   ]
  },
  {
   "cell_type": "code",
   "execution_count": null,
   "id": "de0a169d-06eb-4ebe-abe1-dd83ddce7cc1",
   "metadata": {},
   "outputs": [],
   "source": [
    "#希尔排序通过逐渐减少增量的方式，使得插入排序能够更快地完成排序。插入排序通常会比较相邻元素，如果数据已经部分有序，插入排序的效率较高。\n",
    "#希尔排序通过将元素分成多个子序列来减少元素间的移动，逐步减少增量，最终使用增量为1时完成最后的插入排序。\n",
    "\n",
    "#初始化增量：初始增量为数组长度的一半，然后逐步减少。\n",
    "#分组排序：对于每个增量，将数组元素按增量划分为多个子序列，对每个子序列执行插入排序。\n",
    "#逐步减少增量：每次循环后，减小增量，直到增量为1，此时进行常规的插入排序。\n",
    "def shell_sort(nums):\n",
    "    n = len(nums)\n",
    "    gap = n // 2  # 初始增量为数组长度的一半\n",
    "\n",
    "    # 当增量大于0时，进行排序\n",
    "    while gap > 0:\n",
    "        # 对每个间隔进行插入排序\n",
    "        for i in range(gap, n):\n",
    "            temp = nums[i]  # 当前要插入的元素\n",
    "            j = i\n",
    "\n",
    "            # 插入排序：将元素与前面的元素逐步比较，直到找到合适的位置\n",
    "            while j >= gap and nums[j - gap] > temp:\n",
    "                nums[j] = nums[j - gap]  # 移动元素\n",
    "                j -= gap  # 向前跳跃 gap 个位置\n",
    "            \n",
    "            # 插入当前元素\n",
    "            nums[j] = temp  # 将元素放入合适的位置\n",
    "\n",
    "        gap //= 2  # 将增量减半\n",
    "\n",
    "    return nums  # 返回排序后的数组\n",
    "\n",
    "# 示例\n",
    "nums = [12, 34, 54, 2, 3]\n",
    "sorted_nums = shell_sort(nums)\n",
    "print(sorted_nums)  # 输出: [2, 3, 12, 34, 54]\n"
   ]
  }
 ],
 "metadata": {
  "kernelspec": {
   "display_name": "Python 3 (ipykernel)",
   "language": "python",
   "name": "python3"
  },
  "language_info": {
   "codemirror_mode": {
    "name": "ipython",
    "version": 3
   },
   "file_extension": ".py",
   "mimetype": "text/x-python",
   "name": "python",
   "nbconvert_exporter": "python",
   "pygments_lexer": "ipython3",
   "version": "3.12.8"
  }
 },
 "nbformat": 4,
 "nbformat_minor": 5
}
