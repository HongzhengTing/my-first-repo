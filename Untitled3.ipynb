{
 "cells": [
  {
   "cell_type": "code",
   "execution_count": 10,
   "id": "258576fa-19e5-46be-b8df-c8d1749783b4",
   "metadata": {},
   "outputs": [
    {
     "data": {
      "text/plain": [
       "[5, 4, 3, 2, 1]"
      ]
     },
     "execution_count": 10,
     "metadata": {},
     "output_type": "execute_result"
    }
   ],
   "source": [
    "stack = []\n",
    "for i in range(1,6):\n",
    "    stack.append(i)\n",
    "stack.reverse()\n",
    "stack"
   ]
  },
  {
   "cell_type": "code",
   "execution_count": 11,
   "id": "6b842fe3-3835-4e25-85de-dc0edc7fd8a9",
   "metadata": {},
   "outputs": [],
   "source": [
    "stack = [\"(\",\"[\",\"[\",\"]\",\")\",\"{\",\"}\"]\n",
    "\n",
    "\n",
    "\n",
    "\n",
    "\n",
    "\n",
    "def isvalid(s) ->bool:\n",
    "    stack = []\n",
    "    for i in range(len(s)):\n",
    "        if s[i] == \"(\" or s[i] == \"[\" or s[i] == \"{\":\n",
    "            stack.append(i)\n",
    "        else:\n",
    "            temp = stack.pop()\n",
    "            if i == \"(\":\n",
    "                if temp != \")\":\n",
    "                    return false\n",
    "            if i == \"{\":\n",
    "                if temp != \"}\":\n",
    "                    return false\n",
    "            if i == \"[\":\n",
    "                if temp != \"]\":\n",
    "                    return false\n",
    "        \n",
    "    "
   ]
  },
  {
   "cell_type": "code",
   "execution_count": 12,
   "id": "581cff3c-817d-40aa-abf3-b2c2d1ac4282",
   "metadata": {},
   "outputs": [
    {
     "data": {
      "text/plain": [
       "{1: 'Ting'}"
      ]
     },
     "execution_count": 12,
     "metadata": {},
     "output_type": "execute_result"
    }
   ],
   "source": [
    "mapping = {}\n",
    "mapping[1] = \"Ting\"\n",
    "mapping"
   ]
  },
  {
   "cell_type": "code",
   "execution_count": null,
   "id": "141d16cf-0627-43fa-81af-e4a198aa476f",
   "metadata": {},
   "outputs": [],
   "source": []
  }
 ],
 "metadata": {
  "kernelspec": {
   "display_name": "Python 3 (ipykernel)",
   "language": "python",
   "name": "python3"
  },
  "language_info": {
   "codemirror_mode": {
    "name": "ipython",
    "version": 3
   },
   "file_extension": ".py",
   "mimetype": "text/x-python",
   "name": "python",
   "nbconvert_exporter": "python",
   "pygments_lexer": "ipython3",
   "version": "3.12.6"
  }
 },
 "nbformat": 4,
 "nbformat_minor": 5
}
