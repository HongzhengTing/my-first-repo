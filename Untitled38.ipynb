{
 "cells": [
  {
   "cell_type": "code",
   "execution_count": 8,
   "id": "591b0c3e-4206-4806-8e81-4c255dd7533c",
   "metadata": {},
   "outputs": [
    {
     "name": "stdout",
     "output_type": "stream",
     "text": [
      "[<class '__main__.M'>, <class '__main__.B'>, <class '__main__.C'>, <class '__main__.A'>, <class 'object'>]\n",
      "this is C\n"
     ]
    }
   ],
   "source": [
    "class A:\n",
    "    def say(self):\n",
    "        print('this is A')\n",
    "class B(A):\n",
    "    def say(self):\n",
    "        super().say()\n",
    "class C(A):\n",
    "    def say(self):\n",
    "        print('this is C')\n",
    "class M(B,C):\n",
    "    def say(self):\n",
    "        B.say(self)\n",
    "print(M.mro())\n",
    "m = M()\n",
    "m.say()"
   ]
  },
  {
   "cell_type": "code",
   "execution_count": null,
   "id": "e0f33c7f-824d-4b44-9fd0-39b82b54667b",
   "metadata": {},
   "outputs": [],
   "source": []
  }
 ],
 "metadata": {
  "kernelspec": {
   "display_name": "Python 3 (ipykernel)",
   "language": "python",
   "name": "python3"
  },
  "language_info": {
   "codemirror_mode": {
    "name": "ipython",
    "version": 3
   },
   "file_extension": ".py",
   "mimetype": "text/x-python",
   "name": "python",
   "nbconvert_exporter": "python",
   "pygments_lexer": "ipython3",
   "version": "3.12.7"
  }
 },
 "nbformat": 4,
 "nbformat_minor": 5
}
