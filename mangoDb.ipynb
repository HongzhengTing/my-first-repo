{
 "cells": [
  {
   "cell_type": "code",
   "execution_count": null,
   "id": "7e06fbe0-17f0-47a0-a8f9-2dc6f4aff75b",
   "metadata": {},
   "outputs": [],
   "source": [
    "mangoDb是最像关系型数据库的非关系型数据库\n",
    "\n",
    "mangoDB不支持表连接，只能通过嵌入文档的方式实现，为什么他的查询效率反而更高呢？\n",
    "\n",
    "文档模型优化了数据存储和查询\n",
    "MongoDB 的文档模型以 JSON 或 BSON 格式存储数据，允许嵌套文档（例如将用户的地址直接嵌入到用户文档中）。\n",
    "这种设计可以避免传统关系型数据库中需要通过表连接（JOIN）获取相关数据的问题，因为相关数据存储在同一个文档中，查询时只需访问单一文档即可。\n",
    "减少了磁盘 I/O 和跨表查询的开销，大大提升了查询速度。\n"
   ]
  }
 ],
 "metadata": {
  "kernelspec": {
   "display_name": "Python 3 (ipykernel)",
   "language": "python",
   "name": "python3"
  },
  "language_info": {
   "codemirror_mode": {
    "name": "ipython",
    "version": 3
   },
   "file_extension": ".py",
   "mimetype": "text/x-python",
   "name": "python",
   "nbconvert_exporter": "python",
   "pygments_lexer": "ipython3",
   "version": "3.12.8"
  }
 },
 "nbformat": 4,
 "nbformat_minor": 5
}
