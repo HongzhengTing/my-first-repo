{
 "cells": [
  {
   "cell_type": "code",
   "execution_count": null,
   "id": "9185ad5f-e96f-4665-b7f1-daf9d3979ce4",
   "metadata": {},
   "outputs": [],
   "source": [
    "select address\n",
    "from user_idcard union user_address\n",
    "on user_idcard.name = user_address.name\n",
    "order by (Male/Female)"
   ]
  }
 ],
 "metadata": {
  "kernelspec": {
   "display_name": "Python 3 (ipykernel)",
   "language": "python",
   "name": "python3"
  },
  "language_info": {
   "codemirror_mode": {
    "name": "ipython",
    "version": 3
   },
   "file_extension": ".py",
   "mimetype": "text/x-python",
   "name": "python",
   "nbconvert_exporter": "python",
   "pygments_lexer": "ipython3",
   "version": "3.12.8"
  }
 },
 "nbformat": 4,
 "nbformat_minor": 5
}
