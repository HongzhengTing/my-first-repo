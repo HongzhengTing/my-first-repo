{
 "cells": [
  {
   "cell_type": "code",
   "execution_count": null,
   "id": "8aaafe27-be0d-4f3a-9add-013e7b96fd28",
   "metadata": {},
   "outputs": [],
   "source": [
    "s = [\"h\",\"e\",\"l\",\"l\",\"o\"]"
   ]
  },
  {
   "cell_type": "code",
   "execution_count": 1,
   "id": "51b8514e-3e88-4482-8251-b27d5f51e1eb",
   "metadata": {},
   "outputs": [
    {
     "data": {
      "text/plain": [
       "['o', 'l', 'l', 'e', 'h']"
      ]
     },
     "execution_count": 1,
     "metadata": {},
     "output_type": "execute_result"
    }
   ],
   "source": [
    "##leetcode 344\n",
    "\n",
    "def reverseString(s):\n",
    "    left = 0\n",
    "    right = len(s)-1\n",
    "    temp = ''\n",
    "    while left <= right:\n",
    "        temp = s[left]\n",
    "        s[left] = s[right]\n",
    "        s[right] = temp\n",
    "        left = left +1\n",
    "        right = right -1\n",
    "    return s\n",
    "\n",
    "s = [\"h\",\"e\",\"l\",\"l\",\"o\"]\n",
    "reverseString(s)\n",
    "        "
   ]
  },
  {
   "cell_type": "code",
   "execution_count": 1,
   "id": "d96759f2-67e3-49ac-9ef9-5ffba17f2433",
   "metadata": {},
   "outputs": [
    {
     "data": {
      "text/plain": [
       "'bacdfeg'"
      ]
     },
     "execution_count": 1,
     "metadata": {},
     "output_type": "execute_result"
    }
   ],
   "source": [
    "##leetcode541\n",
    "s = \"abcdefg\"\n",
    "k = 2\n",
    "def reve(s,k):\n",
    "    s = list(s)\n",
    "   \n",
    "    for i in range(0, len(s), 2 * k):\n",
    "        \n",
    "        s[i:i + k] = reversed(s[i:i + k])\n",
    "    \n",
    "    return ''.join(s)\n",
    "reve(s,k)"
   ]
  },
  {
   "cell_type": "code",
   "execution_count": 4,
   "id": "d1afa14d-0970-44b5-b1a2-bee40cb6e2f1",
   "metadata": {},
   "outputs": [
    {
     "name": "stdout",
     "output_type": "stream",
     "text": [
      "anumberbnumbercnumber\n"
     ]
    }
   ],
   "source": [
    "##kama54\n",
    "def tonum(s):\n",
    "    # 将字符串转为列表以便修改\n",
    "    s = list(s)\n",
    "    \n",
    "    # 遍历每个字符，判断是否为数字\n",
    "    for i in range(len(s)):\n",
    "        if s[i].isdigit():  # 检查字符是否为数字\n",
    "            s[i] = 'number'\n",
    "    \n",
    "    # 将列表重新拼接为字符串返回\n",
    "    return ''.join(s)\n",
    "\n",
    "# 测试用例\n",
    "s = 'a1b2c3'\n",
    "print(tonum(s))  # 输出: 'anumberbnumbercnumber'\n"
   ]
  },
  {
   "cell_type": "code",
   "execution_count": null,
   "id": "ec18b309-26ae-4382-94d5-b7fd67f0a719",
   "metadata": {},
   "outputs": [],
   "source": []
  }
 ],
 "metadata": {
  "kernelspec": {
   "display_name": "Python 3 (ipykernel)",
   "language": "python",
   "name": "python3"
  },
  "language_info": {
   "codemirror_mode": {
    "name": "ipython",
    "version": 3
   },
   "file_extension": ".py",
   "mimetype": "text/x-python",
   "name": "python",
   "nbconvert_exporter": "python",
   "pygments_lexer": "ipython3",
   "version": "3.12.7"
  }
 },
 "nbformat": 4,
 "nbformat_minor": 5
}
