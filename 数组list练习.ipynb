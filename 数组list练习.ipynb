{
 "cells": [
  {
   "cell_type": "code",
   "execution_count": 3,
   "id": "5eedb856-1b52-4130-ab87-b7de8eff778b",
   "metadata": {},
   "outputs": [
    {
     "name": "stdout",
     "output_type": "stream",
     "text": [
      "-1\n"
     ]
    }
   ],
   "source": [
    "##leetcode 35题 笔记\n",
    "\n",
    "\n",
    "def research(nums,target): #在定义的时候我们首先根据提供的东西创建函数 这里他会提供给我一个nums的list和一个target的目标值\n",
    "    left = 0         #因为我要用二分法所以我自己创建了left和right 他们的作用是指针\n",
    "    right = len(nums)-1   #注意这里的right是len(nums)-1 需要-1是因为我们之后用的时候是要把它用在索引的[]里 索引会少一位\n",
    "    \n",
    "    while left <=right:   #在这里面要写<=因为<的时候情况还没有跑完  \n",
    "        mid = (left+right)//2  #这里面要用//而不是/ 因为我们要的是整数\n",
    "        \n",
    "        if nums[mid] == target:  # 如果找到了的话就是mid == target  这里注意是比较符号‘==’而不是赋值符号‘=’  \n",
    "                                 # 而且注意是要用nums[mid]来和target比较我们不能直接用mid因为mid是索引\n",
    "            return mid  #返回的是mid\n",
    "        elif nums[mid] < target:  #这里就好理解了  如果target在右半边就把左指针放到比mid多一位的地方\n",
    "            left = mid+1\n",
    "        elif nums[mid] > target:\n",
    "            right = mid -1\n",
    "            \n",
    "    return -1  #找不到就返回-1\n",
    "nums = [1,2,3,4,5]\n",
    "target = -1\n",
    "result=research(nums,target)\n",
    "\n",
    "print(result) "
   ]
  },
  {
   "cell_type": "code",
   "execution_count": 10,
   "id": "64beee53-0b25-4738-89ae-bbca9843aa4f",
   "metadata": {},
   "outputs": [
    {
     "name": "stdout",
     "output_type": "stream",
     "text": [
      "[3, 8]\n"
     ]
    }
   ],
   "source": [
    "##leetcode 34题 笔记\n",
    "#这是我写的第一种方法思路是根据35题的思路 我设定一个左指针从左往右找 右指针从右往左找，然后返回他们的index 但是这样做似乎不保险因为\n",
    "#第一个if 语句 ‘if nums[left] == target and nums[right] == target:’似乎有风险\n",
    "def search(nums,target):\n",
    "    left = 0\n",
    "    right = len(nums)-1\n",
    "    while left <=right:\n",
    "        if nums[left] == target and nums[right] == target:\n",
    "            return [left,right]\n",
    "        elif nums[left]!= target:\n",
    "            left = left +1\n",
    "        elif nums[right]!= target:\n",
    "            right = right -1\n",
    "    return [-1,-1]\n",
    "nums = [5,7,7,8,10,8,8,8,8]\n",
    "target = 8\n",
    "result = search(nums,target)\n",
    "print(result)\n"
   ]
  },
  {
   "cell_type": "code",
   "execution_count": null,
   "id": "3f74998f-98fb-4965-82d9-96c2246ba617",
   "metadata": {},
   "outputs": [],
   "source": [
    "##leetcode 35题第二种方法 我看了一下题解思路看到了他好像是分别用二分法找左和找右 让我来试一下\n",
    "##我不知道为什么跑不出结果\n",
    "\n",
    "\n",
    "def find_left(nums,target):\n",
    "    left = 0\n",
    "    right = len(nums)-1\n",
    "    while left <= right:\n",
    "        mid = (left+ right)//2\n",
    "\n",
    "        #这道题最难的地方就是要注意一下如果找到mid==target之后怎么确认他是最左面的  我的方法是往左面一个一个查 但是要格外注意数组超过边界的问题\n",
    "        if nums[mid] == target: \n",
    "            while mid>0 and nums[mid-1] == target:\n",
    "                mid = mid -1\n",
    "            return mid\n",
    "        elif target < nums[mid]:\n",
    "            right = mid -1\n",
    "        elif target > nums[mid]:\n",
    "            left = left +1\n",
    "    return -1\n",
    "    \n",
    "def find_right(nums,target):\n",
    "    left = 0\n",
    "    right = len(nums)-1\n",
    "    while left <= right:\n",
    "        mid = (left+ right)//2\n",
    "        if nums[mid] == target:\n",
    "            while mid < len(nums)-1 and  nums[mid+1] == target:\n",
    "                mid = mid +1\n",
    "            return mid\n",
    "        elif target < nums[mid]:\n",
    "            right = mid -1\n",
    "        elif target > nums[mid]:\n",
    "            left = left +1\n",
    "    return -1\n",
    "\n",
    "nums = [5,7,7,8,8,8,8,8,10]\n",
    "target = 8\n",
    "left_result = find_left(nums,target)\n",
    "right_result = find_right(nums,target)\n",
    "print(left_result,right_result)\n",
    "\n"
   ]
  },
  {
   "cell_type": "code",
   "execution_count": null,
   "id": "58d7bf5e-cb41-4609-8249-37d76bc84f81",
   "metadata": {},
   "outputs": [],
   "source": []
  },
  {
   "cell_type": "code",
   "execution_count": null,
   "id": "df932b78-3260-441e-8b03-7e20e61ecf54",
   "metadata": {},
   "outputs": [],
   "source": []
  },
  {
   "cell_type": "code",
   "execution_count": null,
   "id": "bcd3982d-7ebe-47ae-8b9b-b4d19db8fa72",
   "metadata": {},
   "outputs": [],
   "source": []
  },
  {
   "cell_type": "code",
   "execution_count": null,
   "id": "23eb0d0a-d846-4717-af50-6f7bde0286f0",
   "metadata": {},
   "outputs": [],
   "source": []
  }
 ],
 "metadata": {
  "kernelspec": {
   "display_name": "Python 3 (ipykernel)",
   "language": "python",
   "name": "python3"
  },
  "language_info": {
   "codemirror_mode": {
    "name": "ipython",
    "version": 3
   },
   "file_extension": ".py",
   "mimetype": "text/x-python",
   "name": "python",
   "nbconvert_exporter": "python",
   "pygments_lexer": "ipython3",
   "version": "3.12.7"
  }
 },
 "nbformat": 4,
 "nbformat_minor": 5
}
