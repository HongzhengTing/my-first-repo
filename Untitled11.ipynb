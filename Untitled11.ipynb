{
 "cells": [
  {
   "cell_type": "code",
   "execution_count": 4,
   "id": "c5794b04-e95b-455a-a7e6-2d57b2c40664",
   "metadata": {},
   "outputs": [
    {
     "data": {
      "text/plain": [
       "2"
      ]
     },
     "execution_count": 4,
     "metadata": {},
     "output_type": "execute_result"
    }
   ],
   "source": [
    "#输入: [1,3,5,6], 5\n",
    "#输出: 2\n",
    "nums = [1,2,3,4]\n",
    "left= 0\n",
    "right = len(nums)-1\n",
    "nums[(left+right)//2]"
   ]
  },
  {
   "cell_type": "code",
   "execution_count": null,
   "id": "266e47b3-2ef6-46f4-af09-306e1a74293f",
   "metadata": {},
   "outputs": [],
   "source": [
    "def research(nums,target):\n",
    "    left = 0\n",
    "    right = len(nums)-1\n",
    "    \n",
    "    while left <= right:\n",
    "        mid = (left+right)//2\n",
    "        \n",
    "        if nums[mid] == target:\n",
    "            return mid\n",
    "        elif nums[mid] < target:\n",
    "            left = mid+1\n",
    "        elif nums[mid] > target:\n",
    "            right = mid -1\n",
    "            \n",
    "    return -1\n",
    "nums = [1,2,3,4,5]\n",
    "target = 1\n",
    "result=research(nums,target)\n",
    "\n",
    "print(result) "
   ]
  },
  {
   "cell_type": "code",
   "execution_count": null,
   "id": "5e19630e-0762-4e1e-ad1f-eae93c8565ef",
   "metadata": {},
   "outputs": [],
   "source": []
  }
 ],
 "metadata": {
  "kernelspec": {
   "display_name": "Python 3 (ipykernel)",
   "language": "python",
   "name": "python3"
  },
  "language_info": {
   "codemirror_mode": {
    "name": "ipython",
    "version": 3
   },
   "file_extension": ".py",
   "mimetype": "text/x-python",
   "name": "python",
   "nbconvert_exporter": "python",
   "pygments_lexer": "ipython3",
   "version": "3.12.7"
  }
 },
 "nbformat": 4,
 "nbformat_minor": 5
}
