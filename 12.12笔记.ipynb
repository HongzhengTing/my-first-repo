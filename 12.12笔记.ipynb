{
 "cells": [
  {
   "cell_type": "code",
   "execution_count": null,
   "id": "25c5c079-8240-4977-9e74-759700e69fdd",
   "metadata": {},
   "outputs": [],
   "source": [
    "singleton 实例代码试一下多线程情况下日志怎么写"
   ]
  },
  {
   "cell_type": "code",
   "execution_count": null,
   "id": "ad32f308-ee2a-4417-8ba4-08fa6fd72bf6",
   "metadata": {},
   "outputs": [],
   "source": [
    "看一下生成器，区别一下迭代器和生成器"
   ]
  },
  {
   "cell_type": "code",
   "execution_count": null,
   "id": "d8cda4ad-9012-4bf7-bd29-9d914decb84d",
   "metadata": {},
   "outputs": [],
   "source": [
    "里氏替换原则：\n",
    "\n",
    "其实思想是，如果遇到子类无法实现父类中的method的时候怎么办，如果子类无法实现父类中method的时候需要干什么\n",
    "比如父类是鸟，但是子类企鹅不会飞，不能实现父类鸟中的飞行方法，就可以把父类分成两个类，一个会飞一个不会飞，让企鹅继承不会飞的这个类\n",
    "\n",
    "接口隔离原则：\n",
    "把接口中不相干的方法和东西分离出去\n",
    "\n"
   ]
  },
  {
   "cell_type": "code",
   "execution_count": null,
   "id": "96eba4da-2a9c-4059-8f32-a908ef89217d",
   "metadata": {},
   "outputs": [],
   "source": [
    "看依赖注入，三种方法"
   ]
  }
 ],
 "metadata": {
  "kernelspec": {
   "display_name": "Python 3 (ipykernel)",
   "language": "python",
   "name": "python3"
  },
  "language_info": {
   "codemirror_mode": {
    "name": "ipython",
    "version": 3
   },
   "file_extension": ".py",
   "mimetype": "text/x-python",
   "name": "python",
   "nbconvert_exporter": "python",
   "pygments_lexer": "ipython3",
   "version": "3.12.8"
  }
 },
 "nbformat": 4,
 "nbformat_minor": 5
}
