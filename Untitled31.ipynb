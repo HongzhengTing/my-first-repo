{
 "cells": [
  {
   "cell_type": "code",
   "execution_count": 2,
   "id": "e0a6219b-2661-4b87-a7e0-82dee1023aa6",
   "metadata": {},
   "outputs": [
    {
     "name": "stdin",
     "output_type": "stream",
     "text": [
      "请输入待排序数列：\n",
      " 1,5,3,6,77,98,34\n"
     ]
    },
    {
     "ename": "ValueError",
     "evalue": "invalid literal for int() with base 10: '1,5,3,6,77,98,34'",
     "output_type": "error",
     "traceback": [
      "\u001b[1;31m---------------------------------------------------------------------------\u001b[0m",
      "\u001b[1;31mValueError\u001b[0m                                Traceback (most recent call last)",
      "Cell \u001b[1;32mIn[2], line 14\u001b[0m\n\u001b[0;32m     12\u001b[0m arr\u001b[38;5;241m=\u001b[39m[]\n\u001b[0;32m     13\u001b[0m \u001b[38;5;28;01mfor\u001b[39;00m i \u001b[38;5;129;01min\u001b[39;00m  y:\n\u001b[1;32m---> 14\u001b[0m     arr\u001b[38;5;241m.\u001b[39mappend(\u001b[38;5;28;43mint\u001b[39;49m\u001b[43m(\u001b[49m\u001b[43mi\u001b[49m\u001b[43m)\u001b[49m)\n\u001b[0;32m     15\u001b[0m arr\u001b[38;5;241m=\u001b[39mBubbleSort(arr)\n\u001b[0;32m     16\u001b[0m \u001b[38;5;66;03m#print(arr)\u001b[39;00m\n",
      "\u001b[1;31mValueError\u001b[0m: invalid literal for int() with base 10: '1,5,3,6,77,98,34'"
     ]
    }
   ],
   "source": [
    "def BubbleSort(lst):\n",
    "    n=len(lst)\n",
    "    if n<=1:\n",
    "        return lst\n",
    "    for i in range (0,n):\n",
    "        for j in range(0,n-i-1):\n",
    "            if lst[j]>lst[j+1]:\n",
    "                (lst[j],lst[j+1])=(lst[j+1],lst[j])\n",
    "    return lst\n",
    "x=input(\"请输入待排序数列：\\n\")\n",
    "y=x.split()\n",
    "arr=[]\n",
    "for i in  y:\n",
    "    arr.append(int(i))\n",
    "arr=BubbleSort(arr)\n",
    "#print(arr)\n",
    "print(\"数列按序排列如下：\")\n",
    "for i in arr:\n",
    "    print(i,end=' ')"
   ]
  },
  {
   "cell_type": "code",
   "execution_count": null,
   "id": "f828c3ba-2dc7-44c4-84ec-8723f95e8ae3",
   "metadata": {},
   "outputs": [],
   "source": []
  }
 ],
 "metadata": {
  "kernelspec": {
   "display_name": "Python 3 (ipykernel)",
   "language": "python",
   "name": "python3"
  },
  "language_info": {
   "codemirror_mode": {
    "name": "ipython",
    "version": 3
   },
   "file_extension": ".py",
   "mimetype": "text/x-python",
   "name": "python",
   "nbconvert_exporter": "python",
   "pygments_lexer": "ipython3",
   "version": "3.12.7"
  }
 },
 "nbformat": 4,
 "nbformat_minor": 5
}
