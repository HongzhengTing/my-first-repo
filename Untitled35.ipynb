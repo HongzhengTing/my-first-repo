{
 "cells": [
  {
   "cell_type": "code",
   "execution_count": null,
   "id": "ca4f23e1-878b-4e35-9221-c25ea39a68d5",
   "metadata": {},
   "outputs": [],
   "source": [
    "父节点：对于索引为 i 的节点，父节点的索引为 (i - 1) // 2。\n",
    "左子节点：节点的左子节点索引为 2 * i + 1。\n",
    "右子节点：节点的右子节点索引为 2 * i + 2。\n",
    "# 数组表示二叉树用特性\n",
    "\n",
    "elements = [1, 2, 3, 4, 5, 6, 7]\n",
    "\n",
    "# 定义一个函数，用于获取某个节点的左子节点。\n",
    "def get_left(index):\n",
    "    # 根据数组表示完全二叉树的规则，左子节点的索引为 2 * index + 1\n",
    "    left_index = 2 * index + 1\n",
    "    # 检查左子节点的索引是否在数组范围内。如果是，返回该索引对应的元素（即左子节点的值）\n",
    "    if left_index < len(elements):\n",
    "        return elements[left_index]\n",
    "    # 如果左子节点索引超出数组范围，则返回 None，表示该节点没有左子节点\n",
    "    return None\n",
    "\n",
    "# 定义一个函数，用于获取某个节点的右子节点。\n",
    "def get_right(index):\n",
    "    # 根据数组表示完全二叉树的规则，右子节点的索引为 2 * index + 2\n",
    "    right_index = 2 * index + 2\n",
    "    # 检查右子节点的索引是否在数组范围内。如果是，返回该索引对应的元素（即右子节点的值）\n",
    "    if right_index < len(elements):\n",
    "        return elements[right_index]\n",
    "    # 如果右子节点索引超出数组范围，则返回 None，表示该节点没有右子节点\n",
    "    return None\n",
    "\n",
    "# 定义一个函数，用于获取某个节点的父节点。\n",
    "def get_parent(index):\n",
    "    # 如果当前节点是根节点（索引为 0），则没有父节点，直接返回 None\n",
    "    if index == 0:\n",
    "        return None\n",
    "    # 根据数组表示完全二叉树的规则，父节点的索引为 (index - 1) // 2\n",
    "    parent_index = (index - 1) // 2\n",
    "    # 返回父节点的值，即数组中 parent_index 位置的元素\n",
    "    return elements[parent_index]\n",
    "\n",
    "# 示例：查看数组中索引 1 位置的节点（即节点 2）的左右子节点和父节点\n",
    "index = 1  # 我们选取索引为 1 的节点（节点 2）\n",
    "\n",
    "# 打印该节点的左子节点的值\n",
    "print(f\"节点 {elements[index]} 的左子节点是 {get_left(index)}\")   # 输出 4\n",
    "\n",
    "# 打印该节点的右子节点的值\n"
   ]
  }
 ],
 "metadata": {
  "kernelspec": {
   "display_name": "Python 3 (ipykernel)",
   "language": "python",
   "name": "python3"
  },
  "language_info": {
   "codemirror_mode": {
    "name": "ipython",
    "version": 3
   },
   "file_extension": ".py",
   "mimetype": "text/x-python",
   "name": "python",
   "nbconvert_exporter": "python",
   "pygments_lexer": "ipython3",
   "version": "3.12.7"
  }
 },
 "nbformat": 4,
 "nbformat_minor": 5
}
