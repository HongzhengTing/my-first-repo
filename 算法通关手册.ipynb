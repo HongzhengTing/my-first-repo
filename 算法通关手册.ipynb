{
 "cells": [
  {
   "cell_type": "code",
   "execution_count": 2,
   "id": "00a1aa3d-3487-4619-a8b7-7d4e626778ba",
   "metadata": {},
   "outputs": [
    {
     "data": {
      "text/plain": [
       "[1, 2, 'python', ['3', 4]]"
      ]
     },
     "execution_count": 2,
     "metadata": {},
     "output_type": "execute_result"
    }
   ],
   "source": [
    "arr = [1,2,'python',['3',4]]\n",
    "arr"
   ]
  },
  {
   "cell_type": "raw",
   "id": "0f66299c-6ba5-40d0-a87f-83c6607f0d17",
   "metadata": {},
   "source": [
    "1. 访问元素\n",
    "# 从数组 nums 中读取下标为 i 的数据元素值\n",
    "def getval(arr,i):\n",
    "    if i <= len(arr)-1:\n",
    "        return arr[i]\n",
    "    else:\n",
    "        return -1\n",
    "arr = [1,2,'python',['3',4]]\n",
    "getval(arr,7)"
   ]
  },
  {
   "cell_type": "code",
   "execution_count": 12,
   "id": "2f2f28d4-4482-4036-af57-dd3c2ec4e8d7",
   "metadata": {},
   "outputs": [
    {
     "name": "stdout",
     "output_type": "stream",
     "text": [
      "2\n"
     ]
    }
   ],
   "source": [
    "2.查找元素的位置\n",
    "#从数组 nums 中查找元素值为 val 的数据元素第一次出现的位置\n",
    "def getposition(nums,val):\n",
    "    for i in range(len(nums)):\n",
    "        if nums[i] == val:\n",
    "            print(i)\n",
    "            \n",
    "arr = [1,2,'python',['3',4]]\n",
    "getposition(arr,'python')"
   ]
  },
  {
   "cell_type": "code",
   "execution_count": 14,
   "id": "b4f25c4a-e351-43e7-9f17-3cf77a4e82a7",
   "metadata": {},
   "outputs": [
    {
     "data": {
      "text/plain": [
       "[1, 2, 'python', ['3', 4], 12]"
      ]
     },
     "execution_count": 14,
     "metadata": {},
     "output_type": "execute_result"
    }
   ],
   "source": [
    "3.数组尾部插入元素\n",
    "arr = [1,2,'python',['3',4]]\n",
    "arr.append(12)\n",
    "arr"
   ]
  },
  {
   "cell_type": "code",
   "execution_count": 15,
   "id": "6270f8e5-63a0-4450-b711-cb73409ab138",
   "metadata": {},
   "outputs": [
    {
     "data": {
      "text/plain": [
       "[1, 2, 10, 'python', ['3', 4]]"
      ]
     },
     "execution_count": 15,
     "metadata": {},
     "output_type": "execute_result"
    }
   ],
   "source": [
    "4.在指定位置上插入指定元素\n",
    "arr = [1,2,'python',['3',4]]\n",
    "arr.insert(2,10)\n",
    "arr"
   ]
  },
  {
   "cell_type": "code",
   "execution_count": 18,
   "id": "f36bce39-fc8e-4be7-ba98-29ed409e52be",
   "metadata": {},
   "outputs": [
    {
     "data": {
      "text/plain": [
       "[1, 5, 'python', ['3', 4]]"
      ]
     },
     "execution_count": 18,
     "metadata": {},
     "output_type": "execute_result"
    }
   ],
   "source": [
    "5.替换指定的列表中的值(第一种写法)\n",
    "def change(nums,index,val):\n",
    "    nums.pop(index)\n",
    "    nums.insert(index,val)\n",
    "\n",
    "arr = [1,2,'python',['3',4]]\n",
    "change(arr,1,5)\n",
    "arr"
   ]
  },
  {
   "cell_type": "code",
   "execution_count": 19,
   "id": "50b2d950-fbfb-414e-8d68-17d8baacada7",
   "metadata": {},
   "outputs": [
    {
     "data": {
      "text/plain": [
       "[1, 5, 'python', ['3', 4]]"
      ]
     },
     "execution_count": 19,
     "metadata": {},
     "output_type": "execute_result"
    }
   ],
   "source": [
    "5.替换指定的列表中的值(第二种写法)\n",
    "def change(nums,index,val):\n",
    "    nums[index] = val\n",
    "arr = [1,2,'python',['3',4]]\n",
    "change(arr,1,5)\n",
    "arr"
   ]
  },
  {
   "cell_type": "code",
   "execution_count": 24,
   "id": "575dbd3f-33f8-47e7-927c-13c42551e671",
   "metadata": {},
   "outputs": [
    {
     "ename": "SyntaxError",
     "evalue": "invalid syntax (1328904135.py, line 1)",
     "output_type": "error",
     "traceback": [
      "\u001b[1;36m  Cell \u001b[1;32mIn[24], line 1\u001b[1;36m\u001b[0m\n\u001b[1;33m    6.删除数组中元素, 根据位置进行删除\u001b[0m\n\u001b[1;37m      ^\u001b[0m\n\u001b[1;31mSyntaxError\u001b[0m\u001b[1;31m:\u001b[0m invalid syntax\n"
     ]
    }
   ],
   "source": [
    "6.删除数组中元素, 根据位置进行删除\n",
    "arr = [1,2,'python',['3',4]]\n",
    "arr.pop(1)\n",
    "arr"
   ]
  },
  {
   "cell_type": "code",
   "execution_count": null,
   "id": "e71eb621-fe6b-47b1-917a-dfaac952f75e",
   "metadata": {},
   "outputs": [],
   "source": []
  }
 ],
 "metadata": {
  "kernelspec": {
   "display_name": "Python 3 (ipykernel)",
   "language": "python",
   "name": "python3"
  },
  "language_info": {
   "codemirror_mode": {
    "name": "ipython",
    "version": 3
   },
   "file_extension": ".py",
   "mimetype": "text/x-python",
   "name": "python",
   "nbconvert_exporter": "python",
   "pygments_lexer": "ipython3",
   "version": "3.12.8"
  }
 },
 "nbformat": 4,
 "nbformat_minor": 5
}
