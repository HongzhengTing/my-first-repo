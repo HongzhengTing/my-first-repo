{
 "cells": [
  {
   "cell_type": "code",
   "execution_count": 3,
   "id": "e4711ac6-fce0-42f0-a46c-02f6dc002678",
   "metadata": {},
   "outputs": [
    {
     "name": "stdout",
     "output_type": "stream",
     "text": [
      "1\n"
     ]
    }
   ],
   "source": [
    "print('1')\n",
    "nums=16"
   ]
  },
  {
   "cell_type": "code",
   "execution_count": 14,
   "id": "f6232cf1-868a-4dd0-a183-0283d9b44395",
   "metadata": {},
   "outputs": [
    {
     "data": {
      "text/plain": [
       "(True, 13)"
      ]
     },
     "execution_count": 14,
     "metadata": {},
     "output_type": "execute_result"
    }
   ],
   "source": [
    "def judge(nums):\n",
    "    left = 0\n",
    "    while True:\n",
    "        if left**2 == nums:\n",
    "            return True,left\n",
    "        else:\n",
    "            left = left +1\n",
    "    return False\n",
    "nums=169\n",
    "judge(nums)"
   ]
  },
  {
   "cell_type": "code",
   "execution_count": 12,
   "id": "38b3a0b9-49d5-4eeb-a675-240f7ddf14c8",
   "metadata": {},
   "outputs": [
    {
     "data": {
      "text/plain": [
       "65536"
      ]
     },
     "execution_count": 12,
     "metadata": {},
     "output_type": "execute_result"
    }
   ],
   "source": [
    "输入: target = 7, nums = [2,3,1,2,4,3]\n",
    "输出: 2\n",
    "解释: 子数组 [4,3] 是最短的，长度为 2。"
   ]
  },
  {
   "cell_type": "code",
   "execution_count": null,
   "id": "240dd2ad-60e9-48d0-80b1-696322993ec4",
   "metadata": {},
   "outputs": [],
   "source": [
    "def find(nums,target):\n",
    "    left1 = 0\n",
    "    left2 = 0\n",
    "    timer = 0\n",
    "    count = 0\n",
    "\n",
    "    \n",
    "    right = len(nums)-1\n",
    "    result = []\n",
    "    while left1 <= right:\n",
    "        if left2<len(nums) and count < target:\n",
    "            count = count + nums[left2]\n",
    "            timer = timer +1\n",
    "            left2 = left2 +1\n",
    "\n",
    "        elif count == target:\n",
    "            for i in range(0,timer):\n",
    "                result.append(nums[left1:left2])\n",
    "                timer = timer -1\n",
    "            timer = 0\n",
    "            count = 0\n",
    "            left1 = left1+1\n",
    "            left2 = left1\n",
    "            \n",
    "        elif count > target:\n",
    "\n",
    "            timer = 0\n",
    "            count = 0\n",
    "            left1 = left1+1\n",
    "            left2 = left1\n",
    "    return result\n",
    "\n",
    "nums = [2,3,1,2,4,3]\n",
    "target = 7\n",
    "find(nums,target)\n",
    "\n",
    "            \n",
    "    \n",
    "            \n",
    "        \n",
    "    \n",
    "                    \n",
    "            \n",
    "            \n",
    "        "
   ]
  },
  {
   "cell_type": "code",
   "execution_count": 24,
   "id": "94d5309d-6375-4f28-b518-9b1897cff44a",
   "metadata": {},
   "outputs": [
    {
     "data": {
      "text/plain": [
       "[1]"
      ]
     },
     "execution_count": 24,
     "metadata": {},
     "output_type": "execute_result"
    }
   ],
   "source": [
    "nums1=[1,2]\n",
    "nums2 = []\n",
    "nums2.append(nums1[0])\n",
    "nums2"
   ]
  },
  {
   "cell_type": "code",
   "execution_count": 34,
   "id": "5f81eba1-1903-4f4e-9aaa-540c37733aaf",
   "metadata": {},
   "outputs": [
    {
     "data": {
      "text/plain": [
       "[range(1, 4)]"
      ]
     },
     "execution_count": 34,
     "metadata": {},
     "output_type": "execute_result"
    }
   ],
   "source": [
    "list1 = []\n",
    "num1 = 1\n",
    "num2 = 4\n",
    "list1.append(range(num1,num2))\n",
    "list1"
   ]
  },
  {
   "cell_type": "code",
   "execution_count": null,
   "id": "5bc99049-b14c-4524-84d1-ac0bf11dbb2b",
   "metadata": {},
   "outputs": [],
   "source": []
  }
 ],
 "metadata": {
  "kernelspec": {
   "display_name": "Python 3 (ipykernel)",
   "language": "python",
   "name": "python3"
  },
  "language_info": {
   "codemirror_mode": {
    "name": "ipython",
    "version": 3
   },
   "file_extension": ".py",
   "mimetype": "text/x-python",
   "name": "python",
   "nbconvert_exporter": "python",
   "pygments_lexer": "ipython3",
   "version": "3.12.7"
  }
 },
 "nbformat": 4,
 "nbformat_minor": 5
}
