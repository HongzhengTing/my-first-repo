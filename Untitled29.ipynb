{
 "cells": [
  {
   "cell_type": "code",
   "execution_count": 14,
   "id": "13ea0076-5b41-4c60-8524-cb5b5640cb2e",
   "metadata": {},
   "outputs": [
    {
     "name": "stdout",
     "output_type": "stream",
     "text": [
      "[1, 2, 3, 4, 0, 0, 0]\n"
     ]
    }
   ],
   "source": [
    "def moveZeroes(nums):\n",
    "    left = 0\n",
    "    for i in range(0,len(nums)):\n",
    "        if nums[i]!= 0:\n",
    "            nums[left] = nums[i]\n",
    "            left = left +1\n",
    "\n",
    "    while left < len(nums):\n",
    "        nums[left] = 0\n",
    "        left = left +1\n",
    "        \n",
    "    return nums\n",
    "\n",
    "\n",
    "nums = [1,2,0,3,0,0,4]\n",
    "print(moveZeroes(nums))"
   ]
  },
  {
   "cell_type": "code",
   "execution_count": 8,
   "id": "4d4c9e32-be19-478c-a461-3fdbde54bccb",
   "metadata": {},
   "outputs": [
    {
     "data": {
      "text/plain": [
       "1"
      ]
     },
     "execution_count": 8,
     "metadata": {},
     "output_type": "execute_result"
    }
   ],
   "source": [
    "查询属于部门 5 的员工，并按员工的 employee_id 升序排列。\n",
    "查询员工的姓名和他们的直接上级的姓名，要求你创建一个 CTE 来获取员工和上级的关系。\n",
    "编写一个递归 CTE，查询公司中每个员工的直属下属（递归查询）。\n",
    "\n",
    "with relation as(\n",
    "    select *\n",
    "    from\n",
    "    employees A\n",
    "    left join\n",
    "    employees B\n",
    "    on A.point_to = B.employee_id\n",
    ")\n",
    "select A.employee_nam,B.employee_id\n",
    "from relation"
   ]
  },
  {
   "cell_type": "code",
   "execution_count": null,
   "id": "c9cf3c85-fbc0-423b-ab78-549a19224842",
   "metadata": {},
   "outputs": [],
   "source": []
  }
 ],
 "metadata": {
  "kernelspec": {
   "display_name": "Python 3 (ipykernel)",
   "language": "python",
   "name": "python3"
  },
  "language_info": {
   "codemirror_mode": {
    "name": "ipython",
    "version": 3
   },
   "file_extension": ".py",
   "mimetype": "text/x-python",
   "name": "python",
   "nbconvert_exporter": "python",
   "pygments_lexer": "ipython3",
   "version": "3.12.8"
  }
 },
 "nbformat": 4,
 "nbformat_minor": 5
}
