{
 "cells": [
  {
   "cell_type": "code",
   "execution_count": null,
   "id": "6acadda5-53f2-48f4-b643-7294aaac5ee7",
   "metadata": {},
   "outputs": [],
   "source": [
    "输入：nums = [2,7,11,15], target = 9\n",
    "输出：[0,1]\n",
    "解释：因为 nums[0] + nums[1] == 9 ，返回 [0, 1]"
   ]
  },
  {
   "cell_type": "code",
   "execution_count": 5,
   "id": "69e42e37-4737-4a33-b260-ce12527914ff",
   "metadata": {},
   "outputs": [
    {
     "data": {
      "text/plain": [
       "(0, 1)"
      ]
     },
     "execution_count": 5,
     "metadata": {},
     "output_type": "execute_result"
    }
   ],
   "source": [
    "def twosum(nums,target):\n",
    "    for i in range(0,len(nums)):\n",
    "        \n",
    "        for j in range(i+1,len(nums)):\n",
    "            if nums[i]+nums[j]==target:\n",
    "                return i,j\n",
    "\n",
    "    return False\n",
    "nums = [2,7,11,15]\n",
    "target = 9\n",
    "twosum(nums,target)"
   ]
  },
  {
   "cell_type": "code",
   "execution_count": 1,
   "id": "1470c501-5bc1-42c4-a51a-460a2a06081a",
   "metadata": {},
   "outputs": [
    {
     "data": {
      "text/plain": [
       "1"
      ]
     },
     "execution_count": 1,
     "metadata": {},
     "output_type": "execute_result"
    }
   ],
   "source": [
    "a = [1,2,3,4,5]\n",
    "a.index(2)\n"
   ]
  },
  {
   "cell_type": "code",
   "execution_count": null,
   "id": "b4eb590b-08df-444b-9148-485c964db7fb",
   "metadata": {},
   "outputs": [],
   "source": [
    "如何判断二次哈希"
   ]
  }
 ],
 "metadata": {
  "kernelspec": {
   "display_name": "Python 3 (ipykernel)",
   "language": "python",
   "name": "python3"
  },
  "language_info": {
   "codemirror_mode": {
    "name": "ipython",
    "version": 3
   },
   "file_extension": ".py",
   "mimetype": "text/x-python",
   "name": "python",
   "nbconvert_exporter": "python",
   "pygments_lexer": "ipython3",
   "version": "3.12.7"
  }
 },
 "nbformat": 4,
 "nbformat_minor": 5
}
