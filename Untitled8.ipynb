{
 "cells": [
  {
   "cell_type": "code",
   "execution_count": 5,
   "id": "446a92c6-edbd-4551-a880-aa259a70b2eb",
   "metadata": {},
   "outputs": [
    {
     "name": "stdout",
     "output_type": "stream",
     "text": [
      "1\n"
     ]
    }
   ],
   "source": [
    "print(5//3)"
   ]
  },
  {
   "cell_type": "code",
   "execution_count": 10,
   "id": "70d7a1b8-78ab-487d-8f39-44d35ff2624e",
   "metadata": {},
   "outputs": [
    {
     "name": "stdout",
     "output_type": "stream",
     "text": [
      "3\n"
     ]
    }
   ],
   "source": [
    "def search(nums,target):\n",
    "    left = 0\n",
    "    right = len(nums)-1\n",
    "    while left <= right:\n",
    "        if nums[(left+right)//2] == target:\n",
    "            return (left+right)//2\n",
    "        if target < nums[(left+right)//2]:\n",
    "            right = (left+right)//2 -1\n",
    "        if target > nums[(left+right)//2]:\n",
    "            left =  (left+right)//2 +1\n",
    "    return -1\n",
    "\n",
    "nums =array.array('f',[-1,0,1,2,3,4,5,6])\n",
    "target = 2\n",
    "print(search(nums,target))\n",
    "            \n",
    "        "
   ]
  },
  {
   "cell_type": "code",
   "execution_count": null,
   "id": "f5bded53-16be-4d28-a0e1-a597b22954ba",
   "metadata": {},
   "outputs": [],
   "source": [
    "dict1 = {'a':1,'b':2}\n",
    "dict2 = {'b':1}\n",
    "dif = {}      \n",
    "\n",
    "for k in dict1.keys():\n",
    "    if k not in dict2.keys():\n",
    "        dif[k] = (dict1[k])\n",
    "    elif dict1[k]!= dict2[k]:\n",
    "        dif[k]= (dict1[k],dict2[k])\n",
    "\n",
    "for key in dict2.keys():\n",
    "    if key not in dict1:\n",
    "        dif[key] = (dict2[key])\n",
    "\n",
    "\n",
    "\n",
    "print(dif)"
   ]
  },
  {
   "cell_type": "code",
   "execution_count": 7,
   "id": "69176c17-99fe-4295-b88c-3e66a716344c",
   "metadata": {},
   "outputs": [
    {
     "name": "stdout",
     "output_type": "stream",
     "text": [
      "2\n"
     ]
    }
   ],
   "source": [
    "nums1 = [5,3,6,9]\n",
    "target = 6\n",
    "for i in nums1:\n",
    "    if i == target:\n",
    "        print(nums1.index(i))"
   ]
  },
  {
   "cell_type": "code",
   "execution_count": null,
   "id": "82dba408-2d64-4bad-ac66-24d20c53acc5",
   "metadata": {},
   "outputs": [],
   "source": []
  }
 ],
 "metadata": {
  "kernelspec": {
   "display_name": "Python 3 (ipykernel)",
   "language": "python",
   "name": "python3"
  },
  "language_info": {
   "codemirror_mode": {
    "name": "ipython",
    "version": 3
   },
   "file_extension": ".py",
   "mimetype": "text/x-python",
   "name": "python",
   "nbconvert_exporter": "python",
   "pygments_lexer": "ipython3",
   "version": "3.12.8"
  }
 },
 "nbformat": 4,
 "nbformat_minor": 5
}
