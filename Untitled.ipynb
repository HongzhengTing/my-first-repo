{
 "cells": [
  {
   "cell_type": "code",
   "execution_count": 6,
   "id": "779aa8ff-4ce6-4438-87c5-77db5569f0e3",
   "metadata": {},
   "outputs": [
    {
     "data": {
      "text/plain": [
       "[1, 2, 3, 4]"
      ]
     },
     "execution_count": 6,
     "metadata": {},
     "output_type": "execute_result"
    }
   ],
   "source": [
    "#a = [1,2,3,4,5]\n",
    "#b=[i*i for i in a ]\n",
    "#b[0:3]\n",
    "stack1 = [1,2,3,4]\n",
    "stack1\n"
   ]
  },
  {
   "cell_type": "code",
   "execution_count": null,
   "id": "a4f6165e-b519-47a2-a163-f4987d2e54ee",
   "metadata": {},
   "outputs": [],
   "source": []
  },
  {
   "cell_type": "code",
   "execution_count": null,
   "id": "1eb7ecb7-1202-4064-83b0-8855f5a92234",
   "metadata": {},
   "outputs": [],
   "source": []
  }
 ],
 "metadata": {
  "kernelspec": {
   "display_name": "Python 3 (ipykernel)",
   "language": "python",
   "name": "python3"
  },
  "language_info": {
   "codemirror_mode": {
    "name": "ipython",
    "version": 3
   },
   "file_extension": ".py",
   "mimetype": "text/x-python",
   "name": "python",
   "nbconvert_exporter": "python",
   "pygments_lexer": "ipython3",
   "version": "3.12.6"
  }
 },
 "nbformat": 4,
 "nbformat_minor": 5
}
