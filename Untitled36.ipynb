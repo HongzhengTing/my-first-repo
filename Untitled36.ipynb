{
 "cells": [
  {
   "cell_type": "code",
   "execution_count": 14,
   "id": "f778fd85-50f4-446b-a9f1-48c0ebc32e6e",
   "metadata": {},
   "outputs": [
    {
     "name": "stdout",
     "output_type": "stream",
     "text": [
      "4\n",
      "2\n",
      "5\n",
      "3\n",
      "1\n"
     ]
    }
   ],
   "source": [
    "from collections import deque\n",
    "\n",
    "class TreeNode:\n",
    "    \n",
    "    left = None\n",
    "    right = None\n",
    "    Value = None\n",
    "\n",
    "root = TreeNode()\n",
    "root.Value = 1\n",
    "\n",
    "Node2 = TreeNode()\n",
    "Node2.Value = 2\n",
    "\n",
    "Node3 = TreeNode()\n",
    "Node3.Value = 3\n",
    "\n",
    "root.left = Node2\n",
    "root.right = Node3\n",
    "Node4 = TreeNode()\n",
    "Node4.Value = 4\n",
    "Node2.left = Node4\n",
    "Node5 = TreeNode()\n",
    "Node5.Value = 5\n",
    "Node3.right = Node5\n",
    "\n",
    "\n",
    "#def pre_order(node):\n",
    "    #if node is not None:\n",
    "        \n",
    "        #pre_order(node.left)\n",
    "        #pre_order(node.right)\n",
    "        #print(node.Value)\n",
    "\n",
    "       1\n",
    "    2     3\n",
    "   4  5     7\n",
    "        \n",
    "\n",
    "#pre_order(root)            \n",
    "def de(root):\n",
    "\n",
    "    if root is None:\n",
    "        return 0 \n",
    "\n",
    "    node = 0\n",
    "    queue = deque([root])\n",
    "    \n",
    "    while queue is not None:\n",
    "        node = queue.popleft()\n",
    "        print(node.value)\n",
    "        \n",
    "\n",
    "        if node.left is not None:\n",
    "            queue.append(node.left)\n",
    "        if node.right is not None:\n",
    "            queue.append(node.right)\n",
    "        \n",
    "1\n",
    "\n",
    "\n"
   ]
  },
  {
   "cell_type": "code",
   "execution_count": 8,
   "id": "c7bc3c40-b93f-46cb-8879-310bad0b386c",
   "metadata": {},
   "outputs": [
    {
     "name": "stdout",
     "output_type": "stream",
     "text": [
      "21\n"
     ]
    }
   ],
   "source": [
    "class Geek: \n",
    "    def __init__(self, age = 0): \n",
    "         self._age = age \n",
    "    \n",
    "      \n",
    "    # getter method \n",
    "    #def get_age(self): \n",
    "     #   return self._age \n",
    "      \n",
    "    # setter method \n",
    "    #def set_age(self, x): \n",
    "     #   self._age = x \n",
    "\n",
    "raj = Geek() \n",
    "raj._age\n",
    "print(raj._age)\n",
    "  "
   ]
  },
  {
   "cell_type": "code",
   "execution_count": null,
   "id": "0ea95d51-5170-405c-9d6e-e53ba864f023",
   "metadata": {},
   "outputs": [],
   "source": []
  }
 ],
 "metadata": {
  "kernelspec": {
   "display_name": "Python 3 (ipykernel)",
   "language": "python",
   "name": "python3"
  },
  "language_info": {
   "codemirror_mode": {
    "name": "ipython",
    "version": 3
   },
   "file_extension": ".py",
   "mimetype": "text/x-python",
   "name": "python",
   "nbconvert_exporter": "python",
   "pygments_lexer": "ipython3",
   "version": "3.12.7"
  }
 },
 "nbformat": 4,
 "nbformat_minor": 5
}
