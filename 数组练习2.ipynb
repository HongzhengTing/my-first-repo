{
 "cells": [
  {
   "cell_type": "code",
   "execution_count": 2,
   "id": "e8136d79-b47b-4a32-841c-c32c91c9585e",
   "metadata": {},
   "outputs": [
    {
     "name": "stdout",
     "output_type": "stream",
     "text": [
      "3 7\n"
     ]
    }
   ],
   "source": [
    "##leetcode 35题第二种方法 我看了一下题解思路看到了他好像是分别用二分法找左和找右 让我来试一下\n",
    "##我不知道为什么跑不出结果\n",
    "\n",
    "\n",
    "def find_left(nums,target):\n",
    "    left = 0\n",
    "    right = len(nums)-1\n",
    "    while left <= right:\n",
    "        mid = (left+ right)//2\n",
    "\n",
    "        #这道题最难的地方就是要注意一下如果找到mid==target之后怎么确认他是最左面的  我的方法是往左面一个一个查 但是要格外注意数组超过边界的问题\n",
    "        if nums[mid] == target: \n",
    "            while mid>0 and nums[mid-1] == target:\n",
    "                mid = mid -1\n",
    "            return mid\n",
    "        elif target < nums[mid]:\n",
    "            right = mid -1\n",
    "        elif target > nums[mid]:\n",
    "            left = left +1\n",
    "    return -1\n",
    "    \n",
    "def find_right(nums,target):\n",
    "    left = 0\n",
    "    right = len(nums)-1\n",
    "    while left <= right:\n",
    "        mid = (left+ right)//2\n",
    "        if nums[mid] == target:\n",
    "            while mid < len(nums)-1 and  nums[mid+1] == target:\n",
    "                mid = mid +1\n",
    "            return mid\n",
    "        elif target < nums[mid]:\n",
    "            right = mid -1\n",
    "        elif target > nums[mid]:\n",
    "            left = left +1\n",
    "    return -1\n",
    "\n",
    "nums = [5,7,7,8,8,8,8,8,10]\n",
    "target = 8\n",
    "left_result = find_left(nums,target)\n",
    "right_result = find_right(nums,target)\n",
    "print(left_result,right_result)\n",
    "\n"
   ]
  },
  {
   "cell_type": "code",
   "execution_count": 21,
   "id": "90e440f8-6fd3-4f3c-9644-e3b592fa07f0",
   "metadata": {},
   "outputs": [
    {
     "name": "stdout",
     "output_type": "stream",
     "text": [
      "2\n"
     ]
    }
   ],
   "source": [
    "#leetcode 69\n",
    "#其实是单指针方法了 右指针没动一直让左指针右移\n",
    "nums = [3,2,3,2,3]\n",
    "val = 3\n",
    "def delate(nums,val):\n",
    "    left = 0\n",
    "    right = len(nums)-1\n",
    "    while left <= right:\n",
    "        if nums[left] == val:\n",
    "            nums.pop(left)\n",
    "            right = right -1   #这里是最容易出错的地方  一定要注意每次pop之后left在原地就可以了  而且arr整体长度小了一位\n",
    "        elif nums[left] != val:\n",
    "            left = left +1\n",
    "    return len(nums)\n",
    "print(delate(nums,val))\n",
    "\n"
   ]
  },
  {
   "cell_type": "code",
   "execution_count": null,
   "id": "dc0c9f78-4677-482b-b0f2-d8cf3fc9dcfd",
   "metadata": {},
   "outputs": [],
   "source": [
    "#leetcode 283\n",
    "nums = [0,1,0,3,12]\n",
    "def move(nums):\n",
    "    left = 0\n",
    " \n",
    "    while left <= len(nums):\n",
    "        if nums[left] == 0:\n",
    "            nums.pop(left)\n",
    "            nums.append(0)\n",
    "        else:\n",
    "            left = left +1\n",
    "    return nums\n",
    "            \n",
    "print(move(nums))"
   ]
  },
  {
   "cell_type": "code",
   "execution_count": null,
   "id": "45e5cd40-d1e9-4d16-92aa-75a0be011fe4",
   "metadata": {},
   "outputs": [],
   "source": []
  },
  {
   "cell_type": "code",
   "execution_count": null,
   "id": "d5a67ab7-2e6b-4989-adeb-8abf132c1790",
   "metadata": {},
   "outputs": [],
   "source": []
  },
  {
   "cell_type": "code",
   "execution_count": null,
   "id": "2e59d02f-cbdb-4925-b5ca-d6e3cc86f450",
   "metadata": {},
   "outputs": [],
   "source": []
  },
  {
   "cell_type": "code",
   "execution_count": null,
   "id": "de96384b-6c78-4201-8ade-3034e5fb8db0",
   "metadata": {},
   "outputs": [],
   "source": []
  },
  {
   "cell_type": "code",
   "execution_count": null,
   "id": "5e20624d-ff2e-43cf-af01-2674d425139a",
   "metadata": {},
   "outputs": [],
   "source": []
  }
 ],
 "metadata": {
  "kernelspec": {
   "display_name": "Python 3 (ipykernel)",
   "language": "python",
   "name": "python3"
  },
  "language_info": {
   "codemirror_mode": {
    "name": "ipython",
    "version": 3
   },
   "file_extension": ".py",
   "mimetype": "text/x-python",
   "name": "python",
   "nbconvert_exporter": "python",
   "pygments_lexer": "ipython3",
   "version": "3.12.8"
  }
 },
 "nbformat": 4,
 "nbformat_minor": 5
}
