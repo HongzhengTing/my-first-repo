{
 "cells": [
  {
   "cell_type": "code",
   "execution_count": 22,
   "id": "4dff28c1-b81d-45be-960d-e51b0e198f70",
   "metadata": {},
   "outputs": [
    {
     "data": {
      "text/plain": [
       "<bound method student.finda of <__main__.student object at 0x000001E00D059070>>"
      ]
     },
     "execution_count": 22,
     "metadata": {},
     "output_type": "execute_result"
    }
   ],
   "source": [
    "class student:\n",
    "    name1 = 'a good test'\n",
    "    _name2 = 'a better test'\n",
    "    def __init__(self,name,age):\n",
    "        self.name = name\n",
    "        self.age = age\n",
    "        self.__name1 = '嘻嘻'\n",
    "    def add(self):\n",
    "        print(\"姓名是：%s, 年龄是：%d\" %(self.name,self.age))\n",
    "    def finda(self):\n",
    "        print(self.__name1)\n",
    "        \n",
    "\n",
    "\n",
    "#创建对象s1\n",
    "s1 = student('Ting',24)\n",
    "s1.finda\n"
   ]
  },
  {
   "cell_type": "code",
   "execution_count": 28,
   "id": "0e52d7c9-3e1c-499a-b976-7da1d7e855ce",
   "metadata": {},
   "outputs": [
    {
     "name": "stdout",
     "output_type": "stream",
     "text": [
      "嘻嘻\n"
     ]
    }
   ],
   "source": [
    "#公共属性就是正常添加 半私有属性就是一个下划线在前面_  完全私有就是连个下划线在前面__ \n",
    "#因为完全私有属性是没有办法从外部获取的 也意味着即使创建了这个class的实例也没有办法用私有的属性或者方法 \n",
    "#那么我们可以在class内部创建一个函数用来获取私有属性或者创建一个更改私有属性值或者私有方法的办法\n",
    "\n",
    "\n",
    "class student:\n",
    "    name1 = 'a good test'\n",
    "    _name2 = 'a better test'\n",
    "    def __init__(self,name,age):\n",
    "        self.name = name\n",
    "        self.age = age\n",
    "        self.__name1 = '嘻嘻'\n",
    "    def add(self):\n",
    "        print(\"姓名是：%s, 年龄是：%d\" %(self.name,self.age))\n",
    "    def finda(self):\n",
    "        print(self.__name1)\n",
    "        \n",
    "\n",
    "\n",
    "#创建对象s1\n",
    "s1 = student('Ting',24)\n",
    "s1.finda()"
   ]
  },
  {
   "cell_type": "code",
   "execution_count": null,
   "id": "865d73bf-9083-4257-982d-462d79955a08",
   "metadata": {},
   "outputs": [],
   "source": []
  },
  {
   "cell_type": "code",
   "execution_count": null,
   "id": "cc15ee28-e755-4ed9-bc76-90d756fc660a",
   "metadata": {},
   "outputs": [],
   "source": []
  }
 ],
 "metadata": {
  "kernelspec": {
   "display_name": "Python 3 (ipykernel)",
   "language": "python",
   "name": "python3"
  },
  "language_info": {
   "codemirror_mode": {
    "name": "ipython",
    "version": 3
   },
   "file_extension": ".py",
   "mimetype": "text/x-python",
   "name": "python",
   "nbconvert_exporter": "python",
   "pygments_lexer": "ipython3",
   "version": "3.12.8"
  }
 },
 "nbformat": 4,
 "nbformat_minor": 5
}
