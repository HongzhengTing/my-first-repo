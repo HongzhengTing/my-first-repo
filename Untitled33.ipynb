{
 "cells": [
  {
   "cell_type": "code",
   "execution_count": 6,
   "id": "3db07666-c59c-41ef-9bf3-3e9eb0842791",
   "metadata": {},
   "outputs": [
    {
     "data": {
      "text/plain": [
       "[1, 5, 7, 9, 55, 56, 68, 128]"
      ]
     },
     "execution_count": 6,
     "metadata": {},
     "output_type": "execute_result"
    }
   ],
   "source": [
    "def quickinsert(nums):\n",
    "    \n",
    "    for i in range(1,len(nums)):\n",
    "        key = nums[i]\n",
    "        j = i-1\n",
    "        \n",
    "        while j>0 and key< nums[j]:\n",
    "            nums[j+1] = nums[j]\n",
    "            j = j-1\n",
    "            \n",
    "        nums[j+1] = key\n",
    "        \n",
    "    return nums\n",
    "            \n",
    "\n",
    "nums = [1,56,5,7,128,68,9,55]\n",
    "\n",
    "quickinsert(nums)\n",
    "        "
   ]
  },
  {
   "cell_type": "code",
   "execution_count": 8,
   "id": "9c31a7c4-fdbe-435a-89ac-8f8e85720054",
   "metadata": {},
   "outputs": [
    {
     "data": {
      "text/plain": [
       "[1, 1, 5, 7, 7, 9, 55, 56, 68, 128]"
      ]
     },
     "execution_count": 8,
     "metadata": {},
     "output_type": "execute_result"
    }
   ],
   "source": [
    "def simplyselect(nums):\n",
    "    for i in range(0,len(nums)):\n",
    "        minnum =i\n",
    "        for j in range(i+1,len(nums)):\n",
    "            if nums[j]<nums[minnum]:\n",
    "                minnum = j\n",
    "\n",
    "        nums[i],nums[minnum] = nums[minnum],nums[i]\n",
    "\n",
    "\n",
    "    return nums\n",
    "nums = [88,5,56,1,7,128,68,7,9,55]\n",
    "simplyselect(nums)\n",
    "\n"
   ]
  },
  {
   "cell_type": "code",
   "execution_count": 9,
   "id": "c0979e4b-4f7b-4cf4-b230-07cf58c43ec2",
   "metadata": {},
   "outputs": [
    {
     "data": {
      "text/plain": [
       "[1, 5, 7, 7, 9, 55, 56, 68, 88, 128]"
      ]
     },
     "execution_count": 9,
     "metadata": {},
     "output_type": "execute_result"
    }
   ],
   "source": [
    "##bubble\n",
    "def bu(nums):\n",
    "    left = 0\n",
    "    while left < len(nums)-1:\n",
    "        j = left\n",
    "        if nums[j]>nums[j+1]:\n",
    "            nums[j],nums[j+1] = nums[j+1],nums[j]\n",
    "        left = left +1\n",
    "    return nums\n",
    "\n",
    "\n",
    "\n",
    "def times(nums):\n",
    "    timer = len(nums)-1\n",
    "    while timer > 0:\n",
    "        bu(nums)\n",
    "        timer = timer-1\n",
    "    return nums\n",
    "\n",
    "\n",
    "nums = [88,5,56,1,7,128,68,7,9,55]\n",
    "times(nums)\n"
   ]
  },
  {
   "cell_type": "code",
   "execution_count": 11,
   "id": "33a87ebc-216a-4a2a-88ae-97369c20d0b9",
   "metadata": {},
   "outputs": [
    {
     "data": {
      "text/plain": [
       "[1, 5, 7, 7, 9, 55, 56, 68, 88, 128]"
      ]
     },
     "execution_count": 11,
     "metadata": {},
     "output_type": "execute_result"
    }
   ],
   "source": [
    "def bu(nums):\n",
    "    n = len(nums)\n",
    "\n",
    "    for i in range(n-1):\n",
    "        mark = '1'\n",
    "        for j in range(n-1-i):\n",
    "            if nums[j] > nums[j+1]:\n",
    "                nums[j],nums[j+1] = nums[j+1],nums[j]\n",
    "                mark = '0'\n",
    "\n",
    "        if mark == '1':\n",
    "            break\n",
    "\n",
    "            \n",
    "    return nums\n",
    "\n",
    "nums = [88,5,56,1,7,128,68,7,9,55]\n",
    "bu(nums)\n",
    "                "
   ]
  },
  {
   "cell_type": "code",
   "execution_count": null,
   "id": "d72e3660-e3f7-436a-a8e1-9f4c8403c195",
   "metadata": {},
   "outputs": [],
   "source": []
  }
 ],
 "metadata": {
  "kernelspec": {
   "display_name": "Python 3 (ipykernel)",
   "language": "python",
   "name": "python3"
  },
  "language_info": {
   "codemirror_mode": {
    "name": "ipython",
    "version": 3
   },
   "file_extension": ".py",
   "mimetype": "text/x-python",
   "name": "python",
   "nbconvert_exporter": "python",
   "pygments_lexer": "ipython3",
   "version": "3.12.7"
  }
 },
 "nbformat": 4,
 "nbformat_minor": 5
}
