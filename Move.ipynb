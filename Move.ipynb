{
 "cells": [
  {
   "cell_type": "code",
   "execution_count": 1,
   "id": "31111a3f-8b68-4e3c-a75e-c04999adfb1f",
   "metadata": {},
   "outputs": [
    {
     "name": "stdout",
     "output_type": "stream",
     "text": [
      "1\n"
     ]
    }
   ],
   "source": [
    "nums = [0,1,0,3,12]\n",
    " [1,3,12,0,0]"
   ]
  },
  {
   "cell_type": "code",
   "execution_count": 3,
   "id": "40f34601-bf5e-4938-a93c-2a0402dcccf1",
   "metadata": {},
   "outputs": [
    {
     "data": {
      "text/plain": [
       "[1, 3, 12, 0, 0]"
      ]
     },
     "execution_count": 3,
     "metadata": {},
     "output_type": "execute_result"
    }
   ],
   "source": [
    "def move(nums):\n",
    "    for i in range(0,len(nums)-1):\n",
    "        if nums[i] == 0:\n",
    "            nums.pop(i)\n",
    "            nums.append(0)\n",
    "    return nums\n",
    "nums = [0,1,0,3,12]\n",
    "move(nums)"
   ]
  },
  {
   "cell_type": "code",
   "execution_count": 18,
   "id": "c2ab7a44-3397-417b-acaa-226962b4b391",
   "metadata": {},
   "outputs": [
    {
     "name": "stdout",
     "output_type": "stream",
     "text": [
      "(5, [0, 1, 2, 3, 4])\n"
     ]
    }
   ],
   "source": [
    "#leetcode 16\n",
    "import array\n",
    "def delete(nums):\n",
    "    nums=set(nums)\n",
    "    nums = list(nums)\n",
    "    \n",
    "    return len(nums),nums\n",
    "    \n",
    "nums = [0,0,1,1,1,2,2,3,3,4]\n",
    "print(delete(nums))\n",
    "            "
   ]
  },
  {
   "cell_type": "code",
   "execution_count": null,
   "id": "b7836edb-ba88-4dfc-b84a-249cfd225927",
   "metadata": {},
   "outputs": [],
   "source": [
    "nums = [-4,-1,0,3,10]\n",
    "输出：[0,1,9,16,100]\n",
    "解释：平方后，数组变为 [16,1,0,9,100]\n",
    "排序后，数组变为 [0,1,9,16,100]"
   ]
  },
  {
   "cell_type": "code",
   "execution_count": 31,
   "id": "11283163-3c57-4dcd-ae89-fcfddc0ff71f",
   "metadata": {},
   "outputs": [
    {
     "name": "stdout",
     "output_type": "stream",
     "text": [
      "[0, 1, 9, 16, 100]\n"
     ]
    }
   ],
   "source": [
    "##leetcode 977\n",
    "def sqar(nums):\n",
    "    for i in range(0,len(nums)):\n",
    "        nums[i] = nums[i]**2\n",
    "    nums.sort()\n",
    "    return nums\n",
    "\n",
    "nums = [-4,-1,0,3,10]\n",
    "print(sqar(nums))"
   ]
  },
  {
   "cell_type": "code",
   "execution_count": 33,
   "id": "c2d10e47-8cbb-4cff-aded-136db4cf1436",
   "metadata": {},
   "outputs": [
    {
     "data": {
      "text/plain": [
       "[0, 1, 9, 16, 100]"
      ]
     },
     "execution_count": 33,
     "metadata": {},
     "output_type": "execute_result"
    }
   ],
   "source": [
    "##leetcode 977 第二种\n",
    "  \n",
    "def sqar(nums):\n",
    "    left = 0\n",
    "    right = len(nums)-1\n",
    "    while left <= right:\n",
    "        nums[left] = nums[left]**2\n",
    "        left=left+1\n",
    "    nums.sort()\n",
    "    return nums\n",
    "    \n",
    "nums = [-4,-1,0,3,10]  \n",
    "sqar(nums)\n",
    "    "
   ]
  },
  {
   "cell_type": "code",
   "execution_count": null,
   "id": "4781cd28-b382-445f-a13c-73db44022185",
   "metadata": {},
   "outputs": [],
   "source": [
    "s = \"ab#c\", t = \"ad#c\"\n",
    "输出：true\n",
    "解释：s 和 t 都会变成 \"ac\"。"
   ]
  },
  {
   "cell_type": "code",
   "execution_count": null,
   "id": "dab7c140-b11c-4d3a-ada8-3e3746bf2f54",
   "metadata": {},
   "outputs": [],
   "source": [
    "    \n",
    "\n",
    "def find_s(s):\n",
    "    s = list(s)\n",
    "    right = len(s)-1\n",
    "    while right != -1:\n",
    "       if s[right] == '#':\n",
    "           if s[right-1]!= '#':\n",
    "               s.pop(right)\n",
    "               s.pop(right-1)\n",
    "               right =right-2\n",
    "    return s\n",
    "s = \"ab#c\"\n",
    "find_s(nums)\n",
    "            \n",
    "            \n",
    "    "
   ]
  },
  {
   "cell_type": "code",
   "execution_count": 34,
   "id": "2c4c694f-7b21-4ffb-b91f-ca2b630de10a",
   "metadata": {},
   "outputs": [
    {
     "data": {
      "text/plain": [
       "['a', 'b', '#', 'c']"
      ]
     },
     "execution_count": 34,
     "metadata": {},
     "output_type": "execute_result"
    }
   ],
   "source": [
    "s = \"ab#c\"\n",
    "s=list(s)\n",
    "s"
   ]
  },
  {
   "cell_type": "code",
   "execution_count": null,
   "id": "1d0d34a4-245e-4de2-a821-81185692558d",
   "metadata": {},
   "outputs": [],
   "source": []
  }
 ],
 "metadata": {
  "kernelspec": {
   "display_name": "Python 3 (ipykernel)",
   "language": "python",
   "name": "python3"
  },
  "language_info": {
   "codemirror_mode": {
    "name": "ipython",
    "version": 3
   },
   "file_extension": ".py",
   "mimetype": "text/x-python",
   "name": "python",
   "nbconvert_exporter": "python",
   "pygments_lexer": "ipython3",
   "version": "3.12.7"
  }
 },
 "nbformat": 4,
 "nbformat_minor": 5
}
