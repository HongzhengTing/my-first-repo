{
 "cells": [
  {
   "cell_type": "code",
   "execution_count": null,
   "id": "0b9cc70d-542a-4a28-8cc4-c3c3f88af0c6",
   "metadata": {},
   "outputs": [],
   "source": [
    "    \n",
    "\n",
    "def find_s(s):\n",
    "    s = list(s)\n",
    "    right = len(s)-1\n",
    "    while right>= 0:\n",
    "       if s[right] == '#':\n",
    "           if right-1 >=0 and s[right-1]!= '#':\n",
    "               s.pop(right)\n",
    "               s.pop(right-1)\n",
    "               right =right-2\n",
    "    return s\n",
    "s = \"ab#c\"\n",
    "print(find_s(s))\n",
    "            \n",
    "            \n",
    "    "
   ]
  },
  {
   "cell_type": "code",
   "execution_count": null,
   "id": "055d65e3-b754-4ae5-af5e-42306935c834",
   "metadata": {},
   "outputs": [],
   "source": []
  },
  {
   "cell_type": "code",
   "execution_count": null,
   "id": "b741964b-1651-4ef6-b0ce-2294ff51cd54",
   "metadata": {},
   "outputs": [],
   "source": []
  }
 ],
 "metadata": {
  "kernelspec": {
   "display_name": "Python 3 (ipykernel)",
   "language": "python",
   "name": "python3"
  },
  "language_info": {
   "codemirror_mode": {
    "name": "ipython",
    "version": 3
   },
   "file_extension": ".py",
   "mimetype": "text/x-python",
   "name": "python",
   "nbconvert_exporter": "python",
   "pygments_lexer": "ipython3",
   "version": "3.12.7"
  }
 },
 "nbformat": 4,
 "nbformat_minor": 5
}
