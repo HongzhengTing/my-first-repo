{
 "cells": [
  {
   "cell_type": "code",
   "execution_count": 18,
   "id": "6e635f30-5262-49f6-9e0e-d9a15436c5e6",
   "metadata": {},
   "outputs": [
    {
     "name": "stdout",
     "output_type": "stream",
     "text": [
      "3\n"
     ]
    }
   ],
   "source": [
    "a=[1,1,0,0,1,1,1]\n",
    "max_count = 0\n",
    "current_count=0\n",
    "for i in range(len(a)):\n",
    "    \n",
    "    if a[i] == 1:\n",
    "        current_count = current_count +1\n",
    "        if current_count >= max_count:\n",
    "            max_count = current_count\n",
    "    else:\n",
    "        current_count = 0\n",
    "print(max_count)\n",
    "    "
   ]
  },
  {
   "cell_type": "code",
   "execution_count": 40,
   "id": "78a559b6-faf0-454f-9e60-177034f915f3",
   "metadata": {},
   "outputs": [
    {
     "data": {
      "text/plain": [
       "[1, 3, 1, 12, 0, 0, 0]"
      ]
     },
     "execution_count": 40,
     "metadata": {},
     "output_type": "execute_result"
    }
   ],
   "source": [
    "a= [0,1,0,0,3,1,12]\n",
    "for i in range(len(a)-1,-1,-1):\n",
    "    if a[i] == 0:\n",
    "        a.pop(i)\n",
    "        a.append(0)\n",
    "a"
   ]
  },
  {
   "cell_type": "code",
   "execution_count": 46,
   "id": "9be69ef2-d20c-4086-96b1-70db64bfcc06",
   "metadata": {},
   "outputs": [
    {
     "data": {
      "text/plain": [
       "[2, 2, 0, 0]"
      ]
     },
     "execution_count": 46,
     "metadata": {},
     "output_type": "execute_result"
    }
   ],
   "source": [
    "nums = [3,2,2,3]\n",
    "val = 3\n",
    "for i in range(len(nums)-1,-1,-1):\n",
    "    if nums[i] == val:\n",
    "        nums.pop(i)\n",
    "        nums.insert(i,0)\n",
    "    for j in range(len(nums)-1,-1,-1):\n",
    "        if nums[j] == 0:\n",
    "            nums.pop(j)\n",
    "            nums.append(0)\n",
    "\n",
    "\n",
    "\n",
    "        \n",
    "nums"
   ]
  },
  {
   "cell_type": "code",
   "execution_count": 50,
   "id": "934d807a-e8d6-4df8-8327-20ae6050ed73",
   "metadata": {},
   "outputs": [],
   "source": [
    "from collections import deque\n",
    "queue= deque()\n",
    "task=[\"task1\",\"task2\",\"task3\",\"task4\"]\n",
    "for i in task:\n",
    "    queue.append(i)\n",
    "while queue:\n",
    "    current_task = queue.popleft()"
   ]
  },
  {
   "cell_type": "code",
   "execution_count": null,
   "id": "5cc784ad-c25e-434e-94d5-9718c30241ea",
   "metadata": {},
   "outputs": [],
   "source": [
    "class recentCounter{\n",
    "\n",
    "\n",
    "\n",
    "\n",
    "\n",
    "\n",
    "};"
   ]
  }
 ],
 "metadata": {
  "kernelspec": {
   "display_name": "Python 3 (ipykernel)",
   "language": "python",
   "name": "python3"
  },
  "language_info": {
   "codemirror_mode": {
    "name": "ipython",
    "version": 3
   },
   "file_extension": ".py",
   "mimetype": "text/x-python",
   "name": "python",
   "nbconvert_exporter": "python",
   "pygments_lexer": "ipython3",
   "version": "3.12.6"
  }
 },
 "nbformat": 4,
 "nbformat_minor": 5
}
