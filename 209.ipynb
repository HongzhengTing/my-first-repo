{
 "cells": [
  {
   "cell_type": "code",
   "execution_count": 23,
   "id": "6eac6a25-c7bd-418e-a1e5-bb0d9168a67d",
   "metadata": {},
   "outputs": [
    {
     "data": {
      "text/plain": [
       "(2, [4, 3])"
      ]
     },
     "execution_count": 23,
     "metadata": {},
     "output_type": "execute_result"
    }
   ],
   "source": [
    "def find_allarrs(nums):\n",
    "    right = len(nums)\n",
    "    result = []\n",
    "    for i in range(right):\n",
    "        for j in range(i,right):\n",
    "            sub = nums[i:j+1]\n",
    "            result.append(sub)\n",
    "    return result\n",
    "\n",
    "\n",
    "\n",
    "def result(nums,target):\n",
    "    final_result = []\n",
    "    result = find_allarrs(nums)\n",
    "    for i in range(0,len(result)):\n",
    "        if sum(result[i]) == target:\n",
    "            final_result.append(result[i])\n",
    "    return len(min(final_result,key= len)),min(final_result,key= len)\n",
    "\n",
    "target = 7\n",
    "nums = [2,3,1,2,4,3]\n",
    "\n",
    "result(nums,target)\n",
    "            "
   ]
  },
  {
   "cell_type": "code",
   "execution_count": 19,
   "id": "f902aa29-8e96-4599-8bc5-8a86de2827d9",
   "metadata": {},
   "outputs": [
    {
     "name": "stdout",
     "output_type": "stream",
     "text": [
      "[1, 2, 1]\n"
     ]
    }
   ],
   "source": [
    "nums = [[1,2,1],[2,3,4],[9,9]]\n",
    "for i in range(0,len(nums)):\n",
    "    index = 0\n",
    "    if i+1< len(nums) and nums[i+1]<nums[i]:\n",
    "        index = i\n",
    "    else:\n",
    "        i=i+1\n",
    "print(nums[index])\n",
    "        "
   ]
  },
  {
   "cell_type": "code",
   "execution_count": null,
   "id": "829c3f86-5740-4385-9df7-8cb101d0cae4",
   "metadata": {},
   "outputs": [],
   "source": []
  }
 ],
 "metadata": {
  "kernelspec": {
   "display_name": "Python 3 (ipykernel)",
   "language": "python",
   "name": "python3"
  },
  "language_info": {
   "codemirror_mode": {
    "name": "ipython",
    "version": 3
   },
   "file_extension": ".py",
   "mimetype": "text/x-python",
   "name": "python",
   "nbconvert_exporter": "python",
   "pygments_lexer": "ipython3",
   "version": "3.12.7"
  }
 },
 "nbformat": 4,
 "nbformat_minor": 5
}
