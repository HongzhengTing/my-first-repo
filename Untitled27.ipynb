{
 "cells": [
  {
   "cell_type": "code",
   "execution_count": 6,
   "id": "48cbbf95-93ab-49e9-ae1b-6ad6a537146d",
   "metadata": {},
   "outputs": [
    {
     "name": "stdout",
     "output_type": "stream",
     "text": [
      "[4, 5, 7]\n"
     ]
    }
   ],
   "source": [
    "nums1 = [2,4,5,7]\n",
    "val=2\n",
    "for i in nums1:\n",
    "    if i == val:\n",
    "        nums1.remove(i)\n",
    "print(nums1)"
   ]
  },
  {
   "cell_type": "code",
   "execution_count": 13,
   "id": "16b45b23-8493-4411-918f-00d9d4de4f74",
   "metadata": {},
   "outputs": [
    {
     "name": "stdout",
     "output_type": "stream",
     "text": [
      "[None, 4, 5, 7]\n"
     ]
    }
   ],
   "source": [
    "nums1 = [2,4,5,7]\n",
    "nums1.pop(0)\n",
    "nums1.insert(0,None)\n",
    "print(nums1)"
   ]
  },
  {
   "cell_type": "code",
   "execution_count": null,
   "id": "da17b53a-f0aa-4df2-8028-922683d6ac4d",
   "metadata": {},
   "outputs": [],
   "source": []
  }
 ],
 "metadata": {
  "kernelspec": {
   "display_name": "Python 3 (ipykernel)",
   "language": "python",
   "name": "python3"
  },
  "language_info": {
   "codemirror_mode": {
    "name": "ipython",
    "version": 3
   },
   "file_extension": ".py",
   "mimetype": "text/x-python",
   "name": "python",
   "nbconvert_exporter": "python",
   "pygments_lexer": "ipython3",
   "version": "3.12.8"
  }
 },
 "nbformat": 4,
 "nbformat_minor": 5
}
